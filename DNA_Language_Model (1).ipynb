{
 "cells": [
  {
   "cell_type": "code",
   "execution_count": null,
   "metadata": {
    "collapsed": true,
    "id": "4AaOrRNEIlIP"
   },
   "outputs": [],
   "source": [
    "!pip install -q datasets\n",
    "!pip install -U datasets huggingface_hub fsspec transformers optuna"
   ]
  },
  {
   "cell_type": "markdown",
   "metadata": {
    "id": "7HM2zvpCjPIf"
   },
   "source": [
    "#Creating the dataset\n",
    "- Load the **adibvafa/CodonTransformer** dataset from Hugging Face.\n",
    "- Identify the top 5 organisms in the dataset based on the number of rows.\n",
    "- Randomly sample 20,000 rows for each of these organisms to create a balanced dataset.\n",
    "- Split the resulting dataset into training and validation sets.\n",
    "- Repeat the above process using the test split from Hugging Face to create a balanced test set."
   ]
  },
  {
   "cell_type": "code",
   "execution_count": 2,
   "metadata": {
    "id": "-1TJN3rCJ5N9"
   },
   "outputs": [],
   "source": [
    "from datasets import load_dataset, Dataset,concatenate_datasets\n",
    "from collections import Counter\n",
    "import random"
   ]
  },
  {
   "cell_type": "code",
   "execution_count": 3,
   "metadata": {
    "colab": {
     "base_uri": "https://localhost:8080/"
    },
    "id": "vGziy-nfKHpQ",
    "outputId": "c89cd388-c2f5-48e6-9c98-9541b8d357e0"
   },
   "outputs": [
    {
     "name": "stderr",
     "output_type": "stream",
     "text": [
      "/usr/local/lib/python3.11/dist-packages/huggingface_hub/utils/_auth.py:94: UserWarning: \n",
      "The secret `HF_TOKEN` does not exist in your Colab secrets.\n",
      "To authenticate with the Hugging Face Hub, create a token in your settings tab (https://huggingface.co/settings/tokens), set it as secret in your Google Colab and restart your session.\n",
      "You will be able to reuse this secret in all of your notebooks.\n",
      "Please note that authentication is recommended but still optional to access public models or datasets.\n",
      "  warnings.warn(\n"
     ]
    },
    {
     "name": "stdout",
     "output_type": "stream",
     "text": [
      "DatasetDict({\n",
      "    train: Dataset({\n",
      "        features: ['dna', 'protein', 'organism', 'GeneID', 'description', 'tokenized', 'fine_tuned', 'len'],\n",
      "        num_rows: 1001197\n",
      "    })\n",
      "})\n"
     ]
    }
   ],
   "source": [
    "dataset = load_dataset(\"adibvafa/CodonTransformer\")\n",
    "print(dataset)"
   ]
  },
  {
   "cell_type": "code",
   "execution_count": 4,
   "metadata": {
    "colab": {
     "base_uri": "https://localhost:8080/"
    },
    "id": "99iGa46qUJH7",
    "outputId": "2a046f25-9277-4b56-b83b-25d6496c4491"
   },
   "outputs": [
    {
     "data": {
      "text/plain": [
       "{'dna': 'ATGGATTACCGACCTTCTGATAGTAGTGGTACAGATGATGACCTGCCTCCATCTCATCAAGGTAGATATCAAAGAAACGCCAGACCTACCGGGAATGGAAGGCCTTCAGTTCTCAATTCTGCTCCTTTATCACGGGTGCACAATGAAATGGAAACTCAAATTCATCTCATTGAGCAAGAAGCTTATAGCTCGATACTCCGCGCATTTAAAGCCCAGTCCGATGCTATTACCTGGGAGAAAGAAAGTTTGATCACTGAACTCAGAAAAGAACTTCGAGTGTCTGATGAGGAACACAGAGAGCTGTTATCAAGGGTTAACGCTGATGAAATGATCAGGCGAATAAGGGAATGGAGAAAGGCAAACAGCCTTCAGTCTAGTGTTCCTCAGCTGGTTCATGATGCTCCGAGTCCGGCTGTATCAGGATCACGTAAGAAGCAAAAGACATCACAATCAATCGCCTCATTAGCGATGGGCCCACCATCTCCTTCTTTGCACCCTTCAATGCAACCATCGTCATCTGCACTAAGAAGGGGAGGTCCTCCACCAGGTCCAAAGACCAAGAAGCCAAAGACATCGATGCAGTACCCATCTACAGGCATTGCTGGAAGGCCCCAGGCTGGCGCTTTAACAAATGAACCAGGTGAATCGGGATCATATGACCCGTTGGTTGGAAGGAAGGTATGGACGAAGTGGCCTGATGACAACCAATACTACGAAGCTGTTATAACTGACTACAACCCTGTTGAGGGGCGTCATGCTTTAGTGTATGATATTAACTCTGCGAATGAAACCTGGGAATGGGTAAATCTTAAAGAGATATCTCCGGGAGATATCAGATGGGAAGGTGAAGATCCTGGGATTTCTCGTAAAGGAGGACATCCTGGGCAAGGCCGTGGAACAAAAACCATGGCTCGTGGTGGTCCTGCAAGCAATGCGGGTGGTAGAGGTAGGGGAAGCATGAGGATGCAGCAACCTAAGACACAGAATGGCATCGGAAAGAAAGCTTTAGGCGAAATCGAAATTCTCCACACTGAGACATTGTTAAAAGAGGTGGAAAAAGTTTTTGGGTCAGTTAACCCCAACCCAGCAGAGGTAGAGAAGGCAAAGAGAGTGCTGAGAGATCATGAACTAGCTCTTATGGATGCCATCGCAAAGCTTGAAGAAATATCAGATGGAGAAAGCGGTAATATTTGA',\n",
       " 'protein': 'MDYRPSDSSGTDDDLPPSHQGRYQRNARPTGNGRPSVLNSAPLSRVHNEMETQIHLIEQEAYSSILRAFKAQSDAITWEKESLITELRKELRVSDEEHRELLSRVNADEMIRRIREWRKANSLQSSVPQLVHDAPSPAVSGSRKKQKTSQSIASLAMGPPSPSLHPSMQPSSSALRRGGPPPGPKTKKPKTSMQYPSTGIAGRPQAGALTNEPGESGSYDPLVGRKVWTKWPDDNQYYEAVITDYNPVEGRHALVYDINSANETWEWVNLKEISPGDIRWEGEDPGISRKGGHPGQGRGTKTMARGGPASNAGGRGRGSMRMQQPKTQNGIGKKALGEIEILHTETLLKEVEKVFGSVNPNPAEVEKAKRVLRDHELALMDAIAKLEEISDGESGNI_',\n",
       " 'organism': 'Arabidopsis thaliana',\n",
       " 'GeneID': 831142.0,\n",
       " 'description': 'NM_121305.4:488-1681 EML3 ',\n",
       " 'tokenized': 'M_ATG D_GAT Y_TAC R_CGA P_CCT S_TCT D_GAT S_AGT S_AGT G_GGT T_ACA D_GAT D_GAT D_GAC L_CTG P_CCT P_CCA S_TCT H_CAT Q_CAA G_GGT R_AGA Y_TAT Q_CAA R_AGA N_AAC A_GCC R_AGA P_CCT T_ACC G_GGG N_AAT G_GGA R_AGG P_CCT S_TCA V_GTT L_CTC N_AAT S_TCT A_GCT P_CCT L_TTA S_TCA R_CGG V_GTG H_CAC N_AAT E_GAA M_ATG E_GAA T_ACT Q_CAA I_ATT H_CAT L_CTC I_ATT E_GAG Q_CAA E_GAA A_GCT Y_TAT S_AGC S_TCG I_ATA L_CTC R_CGC A_GCA F_TTT K_AAA A_GCC Q_CAG S_TCC D_GAT A_GCT I_ATT T_ACC W_TGG E_GAG K_AAA E_GAA S_AGT L_TTG I_ATC T_ACT E_GAA L_CTC R_AGA K_AAA E_GAA L_CTT R_CGA V_GTG S_TCT D_GAT E_GAG E_GAA H_CAC R_AGA E_GAG L_CTG L_TTA S_TCA R_AGG V_GTT N_AAC A_GCT D_GAT E_GAA M_ATG I_ATC R_AGG R_CGA I_ATA R_AGG E_GAA W_TGG R_AGA K_AAG A_GCA N_AAC S_AGC L_CTT Q_CAG S_TCT S_AGT V_GTT P_CCT Q_CAG L_CTG V_GTT H_CAT D_GAT A_GCT P_CCG S_AGT P_CCG A_GCT V_GTA S_TCA G_GGA S_TCA R_CGT K_AAG K_AAG Q_CAA K_AAG T_ACA S_TCA Q_CAA S_TCA I_ATC A_GCC S_TCA L_TTA A_GCG M_ATG G_GGC P_CCA P_CCA S_TCT P_CCT S_TCT L_TTG H_CAC P_CCT S_TCA M_ATG Q_CAA P_CCA S_TCG S_TCA S_TCT A_GCA L_CTA R_AGA R_AGG G_GGA G_GGT P_CCT P_CCA P_CCA G_GGT P_CCA K_AAG T_ACC K_AAG K_AAG P_CCA K_AAG T_ACA S_TCG M_ATG Q_CAG Y_TAC P_CCA S_TCT T_ACA G_GGC I_ATT A_GCT G_GGA R_AGG P_CCC Q_CAG A_GCT G_GGC A_GCT L_TTA T_ACA N_AAT E_GAA P_CCA G_GGT E_GAA S_TCG G_GGA S_TCA Y_TAT D_GAC P_CCG L_TTG V_GTT G_GGA R_AGG K_AAG V_GTA W_TGG T_ACG K_AAG W_TGG P_CCT D_GAT D_GAC N_AAC Q_CAA Y_TAC Y_TAC E_GAA A_GCT V_GTT I_ATA T_ACT D_GAC Y_TAC N_AAC P_CCT V_GTT E_GAG G_GGG R_CGT H_CAT A_GCT L_TTA V_GTG Y_TAT D_GAT I_ATT N_AAC S_TCT A_GCG N_AAT E_GAA T_ACC W_TGG E_GAA W_TGG V_GTA N_AAT L_CTT K_AAA E_GAG I_ATA S_TCT P_CCG G_GGA D_GAT I_ATC R_AGA W_TGG E_GAA G_GGT E_GAA D_GAT P_CCT G_GGG I_ATT S_TCT R_CGT K_AAA G_GGA G_GGA H_CAT P_CCT G_GGG Q_CAA G_GGC R_CGT G_GGA T_ACA K_AAA T_ACC M_ATG A_GCT R_CGT G_GGT G_GGT P_CCT A_GCA S_AGC N_AAT A_GCG G_GGT G_GGT R_AGA G_GGT R_AGG G_GGA S_AGC M_ATG R_AGG M_ATG Q_CAG Q_CAA P_CCT K_AAG T_ACA Q_CAG N_AAT G_GGC I_ATC G_GGA K_AAG K_AAA A_GCT L_TTA G_GGC E_GAA I_ATC E_GAA I_ATT L_CTC H_CAC T_ACT E_GAG T_ACA L_TTG L_TTA K_AAA E_GAG V_GTG E_GAA K_AAA V_GTT F_TTT G_GGG S_TCA V_GTT N_AAC P_CCC N_AAC P_CCA A_GCA E_GAG V_GTA E_GAG K_AAG A_GCA K_AAG R_AGA V_GTG L_CTG R_AGA D_GAT H_CAT E_GAA L_CTA A_GCT L_CTT M_ATG D_GAT A_GCC I_ATC A_GCA K_AAG L_CTT E_GAA E_GAA I_ATA S_TCA D_GAT G_GGA E_GAA S_AGC G_GGT N_AAT I_ATT __TGA',\n",
       " 'fine_tuned': False,\n",
       " 'len': 398}"
      ]
     },
     "execution_count": 4,
     "metadata": {},
     "output_type": "execute_result"
    }
   ],
   "source": [
    "dataset[\"train\"][0]"
   ]
  },
  {
   "cell_type": "code",
   "execution_count": 5,
   "metadata": {
    "colab": {
     "base_uri": "https://localhost:8080/"
    },
    "id": "nzrA5-IcNGo8",
    "outputId": "56aae6de-ff19-479c-a369-a2316e521cc1"
   },
   "outputs": [
    {
     "name": "stdout",
     "output_type": "stream",
     "text": [
      "{'Lonsdalea populi', 'Citrobacter youngae', 'Enterobacter roggenkampii', 'Pantoea allii', 'Pectobacterium aroidearum', 'Proteus faecis', 'Dickeya dadantii 3937', 'Drosophila melanogaster', 'Edwardsiella piscicida', 'Nicotiana tabacum chloroplast', 'Serratia nevei', 'Enterobacter mori', 'Shigella boydii', 'Yersinia alsatica', 'Escherichia ruysiae', 'Pluralibacter gergoviae', 'Enterobacter asburiae', 'Yersinia intermedia', 'Arabidopsis thaliana', 'Enterobacter sichuanensis', 'Edwardsiella anguillarum ET080813', 'Raoultella terrigena', 'Serratia rubidaea', 'Yersinia mollaretii ATCC 43969', 'Enterobacter hormaechei', 'Yersinia ruckeri', 'Pseudomonas putida', 'Yersinia rochesterensis', 'Homo sapiens', 'Serratia plymuthica AS9', 'Escherichia fergusonii', 'Thermococcus litoralis', 'Salmonella enterica subsp. enterica serovar Typhimurium str. LT2', 'Pyrococcus yayanosii', 'Klebsiella aerogenes', 'Cronobacter turicensis', 'Yersinia proxima', 'Escherichia coli general', 'Thermoccoccus kodakarensis', 'Mus musculus', 'Serratia quinivorans', 'Cronobacter sakazakii', 'Shigella flexneri 2a str. 301', 'Enterobacter bugandensis', 'Proteus penneri', 'Klebsiella pneumoniae subsp. pneumoniae HS11286', 'Kalamiella piersonii', 'Pyrococcus horikoshii', 'Thermococcus chitonophagus', 'Proteus terrae subsp. cibarius', 'Photorhabdus laumondii subsp. laumondii TTO1', 'Raoultella ornithinolytica', 'Caenorhabditis elegans', 'Erwinia amylovora CFBP1430', 'Morganella morganii', 'Pectobacterium carotovorum', 'Serratia ureilytica', 'Chlamydomonas reinhardtii', 'Citrobacter freundii', 'Serratia entomophila', 'Rosenbergiella epipactidis', 'Pyrococcus furiosus', 'Cronobacter malonaticus LMG 23826', 'Salmonella bongori N268-08', 'Brenneria goodwinii', 'Yersinia kristensenii', 'Yersinia pestis A1122', 'Klebsiella pasteurii', 'Citrobacter koseri ATCC BAA-895', 'Rouxiella badensis', 'Dickeya fangzhongdai', 'Plesiomonas shigelloides', 'Pectobacterium versatile', 'Proteus vulgaris', 'Yersinia massiliensis CCUG 53443', 'Serratia bockelmannii', 'Saccharolobus solfataricus', 'Hafnia paralvei', 'Pectobacterium parmentieri', 'Thermococcus gammatolerans', 'Enterobacter cancerogenus', 'Chlamydomonas reinhardtii chloroplast', 'Pectobacterium odoriferum', 'Yersinia aleksiciae', 'Citrobacter amalonaticus', 'Klebsiella oxytoca', 'Pectobacterium polaris', 'Serratia ficaria', 'Lelliottia amnigena', 'Providencia alcalifaciens', 'Hafnia alvei', 'Citrobacter farmeri', 'Raoultella planticola', 'Yersinia pseudotuberculosis IP 32953', 'Pantoea stewartii', 'Dickeya dianthicola', 'Shigella sonnei', 'Serratia grimesii', 'Yersinia rohdei', 'Enterobacter ludwigii', 'Providencia rustigianii', 'Enterobacter chengduensis', 'Citrobacter werkmanii', 'Kosakonia radicincitans', 'Kosakonia cowanii', 'Erwinia persicina', 'Enterobacter kobei', 'Pantoea dispersa', 'Yersinia frederiksenii ATCC 33641', 'Pectobacterium atrosepticum', 'Providencia stuartii', 'Danio rerio', 'Dickeya zeae', 'Citrobacter europaeus', 'Obesumbacterium proteus', 'Escherichia coli O157-H7 str. Sakai', 'Citrobacter braakii', 'Leclercia adecarboxylata', 'Thermococcus barophilus MPT', 'Providencia thailandensis', 'Candidatus Erwinia haradaeae', 'Rahnella aquatilis CIP 78.65 = ATCC 33071', 'Saccharomyces cerevisiae', 'Serratia proteamaculans', 'Pantoea ananatis PA13', 'Enterobacter cloacae', 'Xenorhabdus bovienii str. feltiae Florida', 'Dickeya solani', 'Enterobacter quasiroggenkampii', 'Thermococcus onnurineus', 'Candidatus Hamiltonella defensa 5AT (Acyrthosiphon pisum)', 'Serratia fonticola', 'Thermococcus sibiricus', 'Proteus mirabilis HI4320', 'Pantoea agglomerans', 'Atlantibacter hermannii', 'Yersinia aldovae 670-83', 'Moellerella wisconsensis', 'Pectobacterium brasiliense', 'Pantoea vagans', 'Nicotiana tabacum', 'Edwardsiella ictaluri', 'Klebsiella variicola', 'Serratia liquefaciens', 'Bacillus subtilis', 'Citrobacter cronae', 'Klebsiella grimontii', 'Serratia marcescens', 'Escherichia marmotae', 'Providencia heimbachae', 'Escherichia coli str. K-12 substr. MG1655', 'Shigella dysenteriae', 'Escherichia albertii', 'Citrobacter portucalensis', 'Yersinia enterocolitica', 'Edwardsiella tarda', 'Klebsiella quasivariicola', 'Providencia rettgeri', 'Klebsiella michiganensis', 'Yokenella regensburgei', 'Ewingella americana', 'Cronobacter dublinensis subsp. dublinensis LMG 23823', 'Buchnera aphidicola (Schizaphis graminum)', 'Klebsiella quasipneumoniae'}\n",
      "Counter({'Homo sapiens': 111997, 'Nicotiana tabacum': 69642, 'Mus musculus': 68447, 'Danio rerio': 47006, 'Arabidopsis thaliana': 40558, 'Escherichia coli general': 35542, 'Caenorhabditis elegans': 28425, 'Drosophila melanogaster': 21698, 'Chlamydomonas reinhardtii': 18806, 'Saccharomyces cerevisiae': 5962, 'Pseudomonas putida': 5356, 'Klebsiella michiganensis': 5052, 'Klebsiella pasteurii': 4940, 'Klebsiella oxytoca': 4923, 'Raoultella planticola': 4785, 'Klebsiella variicola': 4783, 'Serratia fonticola': 4743, 'Raoultella terrigena': 4728, 'Kosakonia radicincitans': 4720, 'Raoultella ornithinolytica': 4693, 'Klebsiella pneumoniae subsp. pneumoniae HS11286': 4662, 'Klebsiella quasivariicola': 4637, 'Serratia nevei': 4617, 'Klebsiella grimontii': 4609, 'Klebsiella quasipneumoniae': 4547, 'Bacillus subtilis': 4542, 'Serratia quinivorans': 4492, 'Serratia plymuthica AS9': 4489, 'Serratia liquefaciens': 4483, 'Citrobacter europaeus': 4438, 'Serratia marcescens': 4437, 'Klebsiella aerogenes': 4380, 'Serratia bockelmannii': 4379, 'Pluralibacter gergoviae': 4377, 'Citrobacter farmeri': 4374, 'Serratia ficaria': 4353, 'Serratia ureilytica': 4331, 'Serratia grimesii': 4297, 'Shigella dysenteriae': 4295, 'Serratia entomophila': 4257, 'Citrobacter freundii': 4243, 'Citrobacter werkmanii': 4240, 'Citrobacter amalonaticus': 4237, 'Enterobacter chengduensis': 4235, 'Citrobacter portucalensis': 4217, 'Citrobacter braakii': 4214, 'Enterobacter ludwigii': 4177, 'Escherichia coli O157-H7 str. Sakai': 4175, 'Enterobacter quasiroggenkampii': 4155, 'Rouxiella badensis': 4135, 'Escherichia coli str. K-12 substr. MG1655': 4122, 'Enterobacter mori': 4121, 'Serratia rubidaea': 4119, 'Saccharolobus solfataricus': 4108, 'Brenneria goodwinii': 4087, 'Shigella boydii': 4085, 'Ewingella americana': 4082, 'Enterobacter kobei': 4080, 'Shigella sonnei': 4077, 'Enterobacter cancerogenus': 4066, 'Enterobacter sichuanensis': 4057, 'Yokenella regensburgei': 4047, 'Enterobacter roggenkampii': 4042, 'Leclercia adecarboxylata': 4019, 'Rahnella aquatilis CIP 78.65 = ATCC 33071': 4016, 'Kalamiella piersonii': 4014, 'Enterobacter hormaechei': 4003, 'Citrobacter koseri ATCC BAA-895': 4000, 'Enterobacter asburiae': 3992, 'Pantoea allii': 3987, 'Pectobacterium atrosepticum': 3965, 'Escherichia marmotae': 3955, 'Pectobacterium parmentieri': 3951, 'Escherichia fergusonii': 3934, 'Citrobacter cronae': 3933, 'Pectobacterium versatile': 3931, 'Pectobacterium aroidearum': 3929, 'Dickeya fangzhongdai': 3914, 'Pectobacterium polaris': 3914, 'Yersinia massiliensis CCUG 53443': 3909, 'Yersinia intermedia': 3904, 'Kosakonia cowanii': 3875, 'Pectobacterium carotovorum': 3867, 'Escherichia albertii': 3863, 'Salmonella bongori N268-08': 3862, 'Yersinia alsatica': 3857, 'Pectobacterium odoriferum': 3844, 'Dickeya dadantii 3937': 3838, 'Dickeya solani': 3838, 'Erwinia persicina': 3837, 'Pectobacterium brasiliense': 3828, 'Yersinia frederiksenii ATCC 33641': 3819, 'Hafnia alvei': 3817, 'Dickeya dianthicola': 3803, 'Obesumbacterium proteus': 3799, 'Lelliottia amnigena': 3791, 'Hafnia paralvei': 3761, 'Pantoea ananatis PA13': 3747, 'Photorhabdus laumondii subsp. laumondii TTO1': 3734, 'Dickeya zeae': 3720, 'Atlantibacter hermannii': 3714, 'Pantoea stewartii': 3707, 'Yersinia kristensenii': 3680, 'Yersinia proxima': 3674, 'Yersinia enterocolitica': 3634, 'Cronobacter dublinensis subsp. dublinensis LMG 23823': 3628, 'Yersinia mollaretii ATCC 43969': 3616, 'Yersinia aleksiciae': 3591, 'Cronobacter sakazakii': 3562, 'Yersinia pseudotuberculosis IP 32953': 3548, 'Cronobacter malonaticus LMG 23826': 3525, 'Yersinia rochesterensis': 3455, 'Providencia rettgeri': 3430, 'Escherichia ruysiae': 3415, 'Providencia stuartii': 3400, 'Yersinia aldovae 670-83': 3387, 'Yersinia rohdei': 3353, 'Yersinia pestis A1122': 3348, 'Pantoea vagans': 3331, 'Providencia heimbachae': 3329, 'Pantoea dispersa': 3320, 'Edwardsiella anguillarum ET080813': 3293, 'Pantoea agglomerans': 3275, 'Proteus mirabilis HI4320': 3197, 'Morganella morganii': 3186, 'Providencia rustigianii': 3155, 'Providencia alcalifaciens': 3153, 'Xenorhabdus bovienii str. feltiae Florida': 3148, 'Proteus terrae subsp. cibarius': 3133, 'Citrobacter youngae': 3128, 'Proteus vulgaris': 3123, 'Proteus penneri': 3113, 'Edwardsiella piscicida': 2990, 'Lonsdalea populi': 2962, 'Edwardsiella tarda': 2950, 'Shigella flexneri 2a str. 301': 2922, 'Erwinia amylovora CFBP1430': 2918, 'Yersinia ruckeri': 2915, 'Plesiomonas shigelloides': 2893, 'Edwardsiella ictaluri': 2873, 'Providencia thailandensis': 2833, 'Moellerella wisconsensis': 2654, 'Enterobacter cloacae': 2652, 'Rosenbergiella epipactidis': 2568, 'Enterobacter bugandensis': 2453, 'Thermococcus litoralis': 2352, 'Thermoccoccus kodakarensis': 2313, 'Serratia proteamaculans': 2294, 'Thermococcus chitonophagus': 2213, 'Thermococcus barophilus MPT': 2193, 'Pyrococcus furiosus': 2185, 'Thermococcus gammatolerans': 2157, 'Thermococcus onnurineus': 1969, 'Thermococcus sibiricus': 1955, 'Pyrococcus horikoshii': 1842, 'Pyrococcus yayanosii': 1840, 'Cronobacter turicensis': 1758, 'Nicotiana tabacum chloroplast': 1548, 'Candidatus Hamiltonella defensa 5AT (Acyrthosiphon pisum)': 1444, 'Proteus faecis': 1403, 'Candidatus Erwinia haradaeae': 571, 'Buchnera aphidicola (Schizaphis graminum)': 533, 'Salmonella enterica subsp. enterica serovar Typhimurium str. LT2': 444, 'Chlamydomonas reinhardtii chloroplast': 356})\n"
     ]
    }
   ],
   "source": [
    "unique_organisms = set(example[\"organism\"] for example in dataset[\"train\"])\n",
    "print(unique_organisms)\n",
    "organism_counts = Counter(dataset[\"train\"][\"organism\"])\n",
    "print(organism_counts)"
   ]
  },
  {
   "cell_type": "markdown",
   "metadata": {
    "id": "MY7EUk6dPCpn"
   },
   "source": []
  },
  {
   "cell_type": "code",
   "execution_count": 6,
   "metadata": {
    "colab": {
     "base_uri": "https://localhost:8080/",
     "height": 192,
     "referenced_widgets": [
      "26c9a668c01a40a496085d7917e85263",
      "1add9f44866f4250890a7422a765a1e5",
      "85e9135fb6ff42ae886a9d526ea46143",
      "d2c47ccb4866404296c0e23b1b7e4226",
      "d1def1375cf94c3fa2c23c8313b742b1",
      "6bd32a3329544b0fa1aa2574faa92bb2",
      "c25b83a952c54bb69a53e1c8f43ab761",
      "87a9c4ed9a484ab59c0051f4a09b4854",
      "5e0aa33820664a21a0c39055ea492523",
      "2b4c7d5b6d0d4a96817c8e83e40cd02e",
      "c41740169cf942948a6aa35097bb908b"
     ]
    },
    "id": "se-kteJTR5BR",
    "outputId": "f6c00ee5-4dfd-4520-da41-fa5e0ba83795"
   },
   "outputs": [
    {
     "name": "stdout",
     "output_type": "stream",
     "text": [
      "Top 5 organisms:\n",
      "Homo sapiens (111997)\n",
      "Nicotiana tabacum (69642)\n",
      "Mus musculus (68447)\n",
      "Danio rerio (47006)\n",
      "Arabidopsis thaliana (40558)\n"
     ]
    },
    {
     "data": {
      "application/vnd.jupyter.widget-view+json": {
       "model_id": "26c9a668c01a40a496085d7917e85263",
       "version_major": 2,
       "version_minor": 0
      },
      "text/plain": [
       "Filter:   0%|          | 0/1001197 [00:00<?, ? examples/s]"
      ]
     },
     "metadata": {},
     "output_type": "display_data"
    },
    {
     "name": "stdout",
     "output_type": "stream",
     "text": [
      "\n",
      "Filtered dataset size: 337650\n"
     ]
    }
   ],
   "source": [
    "# get top 5 organisms\n",
    "train_split = dataset[\"train\"]\n",
    "organism_counts = Counter(train_split[\"organism\"])\n",
    "\n",
    "\n",
    "top_5_organisms = [org for org, _ in organism_counts.most_common(5)]\n",
    "print(\"Top 5 organisms:\")\n",
    "for org in top_5_organisms:\n",
    "    print(f\"{org} ({organism_counts[org]})\")\n",
    "\n",
    "#  Filter the rows with the top 5 organisms\n",
    "filtered_dataset = train_split.filter(lambda ex: ex[\"organism\"] in top_5_organisms)\n",
    "print(f\"\\nFiltered dataset size: {len(filtered_dataset)}\")\n"
   ]
  },
  {
   "cell_type": "code",
   "execution_count": 7,
   "metadata": {
    "colab": {
     "base_uri": "https://localhost:8080/",
     "height": 177,
     "referenced_widgets": [
      "0533b80ea3854b58b4bfb9e5d858589b",
      "65ed62f0af5a46b1a3114798141a5fc9",
      "63b1eb21c634465a8863d538479de83e",
      "121549094c904a998db1d93a43b6ca6a",
      "99ca6680eee847a6a20f7cd24ce15788",
      "123e7facbbc24db19a562f1ed7869619",
      "4927afafdd8b44c8a81f2482ec815714",
      "0cdf377ebb8049a5939ce7e6de8dff2b",
      "8a878d65887c49219f7a81b60678c9b4",
      "a6f4b91267c74db5bb031d7c644267af",
      "aa61be9450a04663911caf33ef1dac89",
      "3ae99dadab4f465c8b10bad5713d95f6",
      "0a82a264af0c4c33a3e365c7c5568416",
      "4069418e2f2845ec8a89964ffc8154ed",
      "8ab47fd72da04a52995e11976c4fc479",
      "ca2a987088b745139cf9a006aac62849",
      "eb97d5f781a447e5a0e950980227647e",
      "5b1730a99a7349208fb6680e4781511b",
      "8a0c1de084ae4757998cd757b3a12a30",
      "3eecd1815dcb4abba4db5467fdbb5457",
      "7c798da4fe0344eaae10c0a83e475ffc",
      "dd12911879a747e3838b99395a78391c",
      "ba805a4b747e4b5d9ea78f0449cb5914",
      "f210d7219b0c4244b9bbe9c0b214c866",
      "d3f08b7c7fd845fabe4500143f8feb90",
      "889202e952b349deb62d22284322d665",
      "1e5b9321cda943529c7791345ccdd12d",
      "c7b01d24efa3423cbb66a060f8e77886",
      "7190473b07b7431c90dff31e70fd24ee",
      "a77cc8168d1142fabf05dd04b31065d0",
      "405d827770954e59b9d3b252bd4eb665",
      "343be3630c064131aa570ec936182704",
      "9aad74c2ac2943ea99bf4467c37db173",
      "89f1c68564df41aa8a00e73b730d4af1",
      "d19e2ae61bc34fb49751450a2f5c9a0d",
      "0119f2aa50b4414b912565f7df4ffa54",
      "19830907585c458485fc18bfdd7e4d34",
      "db03321486a2498ea4edc1a215cb5031",
      "f7d8703b03de40d19f331799fcd54483",
      "29db9297c9c242acbdffe5ab70dcfdb7",
      "e007d518856246168fae94f721aa8aa5",
      "24afd98010734b81a7e73fc3365d0858",
      "333cb717e28c4262a746a4fb74b9cc11",
      "9fb7fcc425c341c687eec5ca4baefe36",
      "527ec7f7629c4b42b478798e18e5c7de",
      "d993a034537640a4a998bf58a8520148",
      "4c3882be034947b195d91befb3e32131",
      "819ca683ff3d42c38d3ec8e2fd2ed932",
      "89ab1576b30043b6bcd150c861aeafac",
      "41dce59a2a8c4376a8b7aca6e3e8340e",
      "98c1403ff27a42a4a858f6f7d038f59b",
      "6fba6c65fbb743bea5b64be0fbacd236",
      "76e781b4ebfd476599bcb6b3da2ab480",
      "5ae7b64e6c4146ec821b21e18c392f94",
      "2285c0dc54bd4df0bf8c2637be1e7ab7"
     ]
    },
    "id": "q7vFm0-RcSSr",
    "outputId": "e22f89f9-3452-4d70-d317-c131b8def1c0"
   },
   "outputs": [
    {
     "data": {
      "application/vnd.jupyter.widget-view+json": {
       "model_id": "0533b80ea3854b58b4bfb9e5d858589b",
       "version_major": 2,
       "version_minor": 0
      },
      "text/plain": [
       "Filter:   0%|          | 0/337650 [00:00<?, ? examples/s]"
      ]
     },
     "metadata": {},
     "output_type": "display_data"
    },
    {
     "data": {
      "application/vnd.jupyter.widget-view+json": {
       "model_id": "3ae99dadab4f465c8b10bad5713d95f6",
       "version_major": 2,
       "version_minor": 0
      },
      "text/plain": [
       "Filter:   0%|          | 0/337650 [00:00<?, ? examples/s]"
      ]
     },
     "metadata": {},
     "output_type": "display_data"
    },
    {
     "data": {
      "application/vnd.jupyter.widget-view+json": {
       "model_id": "ba805a4b747e4b5d9ea78f0449cb5914",
       "version_major": 2,
       "version_minor": 0
      },
      "text/plain": [
       "Filter:   0%|          | 0/337650 [00:00<?, ? examples/s]"
      ]
     },
     "metadata": {},
     "output_type": "display_data"
    },
    {
     "data": {
      "application/vnd.jupyter.widget-view+json": {
       "model_id": "89f1c68564df41aa8a00e73b730d4af1",
       "version_major": 2,
       "version_minor": 0
      },
      "text/plain": [
       "Filter:   0%|          | 0/337650 [00:00<?, ? examples/s]"
      ]
     },
     "metadata": {},
     "output_type": "display_data"
    },
    {
     "data": {
      "application/vnd.jupyter.widget-view+json": {
       "model_id": "527ec7f7629c4b42b478798e18e5c7de",
       "version_major": 2,
       "version_minor": 0
      },
      "text/plain": [
       "Filter:   0%|          | 0/337650 [00:00<?, ? examples/s]"
      ]
     },
     "metadata": {},
     "output_type": "display_data"
    }
   ],
   "source": [
    "#Considering 20,000 rows from each organism ramdomly\n",
    "samples_per_org = 20000\n",
    "subset_datasets = []\n",
    "used_sequences_by_org = {}\n",
    "\n",
    "\n",
    "for organism in top_5_organisms:\n",
    "    # Filter dataset for this organism\n",
    "    org_dataset = filtered_dataset.filter(lambda ex: ex[\"organism\"] == organism)\n",
    "\n",
    "    # Randomly sample 20,000 rows\n",
    "    indices = random.sample(range(len(org_dataset)), samples_per_org)\n",
    "    sampled_dataset = org_dataset.select(indices)\n",
    "    used_sequences_by_org[organism] = set(sampled_dataset[\"dna\"])\n",
    "\n",
    "    subset_datasets.append(sampled_dataset)\n"
   ]
  },
  {
   "cell_type": "code",
   "execution_count": 8,
   "metadata": {
    "colab": {
     "base_uri": "https://localhost:8080/"
    },
    "id": "8zLmlZkFJwrn",
    "outputId": "45fa490b-c41d-48c4-c835-2a93c4a9a1bf"
   },
   "outputs": [
    {
     "name": "stdout",
     "output_type": "stream",
     "text": [
      "\n",
      "Final balanced dataset size: 100000\n"
     ]
    }
   ],
   "source": [
    "final_dataset = concatenate_datasets(subset_datasets)\n",
    "print(f\"\\nFinal balanced dataset size: {len(final_dataset)}\")  # (20,000*5=100000)"
   ]
  },
  {
   "cell_type": "code",
   "execution_count": 9,
   "metadata": {
    "colab": {
     "base_uri": "https://localhost:8080/"
    },
    "id": "bjK0ZcCpKh7v",
    "outputId": "a3509c08-3cf5-4deb-df74-d4d6134e98ed"
   },
   "outputs": [
    {
     "name": "stdout",
     "output_type": "stream",
     "text": [
      "Train set size: 80000\n",
      "Validation set size: 20000\n"
     ]
    }
   ],
   "source": [
    "# Split the final dataset into train and validation (80/20 split)\n",
    "split_dataset = final_dataset.train_test_split(test_size=0.2, seed=42, shuffle=True)\n",
    "\n",
    "# Access the splits\n",
    "train_dataset = split_dataset[\"train\"]\n",
    "val_dataset = split_dataset[\"test\"]\n",
    "\n",
    "# Print the sizes\n",
    "print(f\"Train set size: {len(train_dataset)}\")\n",
    "print(f\"Validation set size: {len(val_dataset)}\")"
   ]
  },
  {
   "cell_type": "code",
   "execution_count": 13,
   "metadata": {
    "id": "euOZ1CHQwxBJ"
   },
   "outputs": [],
   "source": [
    "test_sample_sizes = {\n",
    "    'Homo sapiens': random.randint(5000, 10000),\n",
    "    'Nicotiana tabacum': random.randint(5000, 10000),\n",
    "    'Mus musculus': random.randint(5000, 10000),\n",
    "    'Danio rerio': random.randint(2000, 5000),\n",
    "    'Arabidopsis thaliana': random.randint(2000, 5000),\n",
    "}\n",
    "\n",
    "test_samples = []\n",
    "\n",
    "# Build test set with no overlap\n",
    "for organism in top_5_organisms:\n",
    "    org_dataset = filtered_dataset.filter(lambda ex: ex[\"organism\"] == organism)\n",
    "    available = [ex for ex in org_dataset if ex[\"dna\"] not in used_sequences_by_org[organism]]\n",
    "    sample_count = min(len(available), test_sample_sizes[organism])\n",
    "    sampled = random.sample(available, sample_count)\n",
    "    test_samples.extend(sampled)\n",
    "\n",
    "# Convert to Hugging Face dataset\n",
    "test_dataset = Dataset.from_list(test_samples)"
   ]
  },
  {
   "cell_type": "code",
   "execution_count": 14,
   "metadata": {
    "colab": {
     "base_uri": "https://localhost:8080/"
    },
    "id": "m0m8MK4B2h2K",
    "outputId": "8a3812d0-1457-4d55-c140-cd4b2a6a01d1"
   },
   "outputs": [
    {
     "name": "stdout",
     "output_type": "stream",
     "text": [
      "Test set created with NO overlap with train/val sets.\n",
      "Test set size: 30941\n"
     ]
    }
   ],
   "source": [
    "# Collect DNA sequences from train and val sets\n",
    "train_dna = set(train_dataset[\"dna\"])\n",
    "val_dna = set(val_dataset[\"dna\"])\n",
    "test_dna = set(test_dataset[\"dna\"])\n",
    "\n",
    "# Check if test set is unique from train ansd val sets\n",
    "overlap_with_train = test_dna.intersection(train_dna)\n",
    "overlap_with_val = test_dna.intersection(val_dna)\n",
    "\n",
    "if not overlap_with_train and not overlap_with_val:\n",
    "    print(\"Test set created with NO overlap with train/val sets.\")\n",
    "else:\n",
    "    print(\"Overlap detected!\")\n",
    "    print(f\"Overlap with train: {len(overlap_with_train)}\")\n",
    "    print(f\"Overlap with val: {len(overlap_with_val)}\")\n",
    "\n",
    "print(f\"Test set size: {len(test_dataset)}\")"
   ]
  },
  {
   "cell_type": "code",
   "execution_count": 15,
   "metadata": {
    "colab": {
     "base_uri": "https://localhost:8080/"
    },
    "collapsed": true,
    "id": "tKFxy2Cn1sp-",
    "outputId": "0fed2ad8-d26f-45d1-c887-4651af17e618"
   },
   "outputs": [
    {
     "data": {
      "text/plain": [
       "{'dna': 'ATGATTTTCCAAAAAGAAACCATGGAGGTTGAAATCTTGTCAACAAAGTTGATAAAACCATCTTCACCAACTCCAAATTACCTTCAAAATTACAAACTATCTTTCTTTGATCAAATAGCTGATGAGGCACATTTACCTCTTGTTCTTTTCTATCCTCCTGGCAATAGCAATACCAAGAATAATATTGCAGCTGAAGAACAGCTCGAGCAATCCTTATCTAGAATTTTAACCCATGTTTACCCAATTGCTGGCAGATTTACTGAGGATAACTCCTCGATTCACTGCCTCGATCAAGGGGTTAAATTTGTCAAAGCCAAGGTAAATTGTAAGCTCAATGACTTTCTTGAGAAAGCACACAAAGATGTCAATCTTGCCTTATCTTGTTGGCCTAAAGATACTTGGTATGTGGATGAAACTAATTTACTCATTGTGCCAATTGTCATTGTACAAGTCACAAAATTCAATTGCGGTGGCATGGCTCTATCTATGAGCCATGCACATACCGCGATGGATGGTTTCACAACTTTTACATTCGTTCACGAGTGGTCAAAAGTGTGCAAATTGGGGATTCCTACAGAGAAAATCAACTTTTTGAGCTTTAATTTGGCTAAGATTTTCCCACCAAGAGATGCATCGAAAATTCTCTTGCCTCGTATCCCCCAGGAAAATCGTATGGATGCTAAACTAGTTGCCAAGAAGTTATACATCAACCAAGATTCTATTTCAAGACTCAGAGAAGAATTAACAAAATCAACGGATTCTGGAGCTTTATGCTTTAAGCCCTCAAGAGTTGAAATGATTATAGCGCTCTTATGGAGGGCTTTAATCCGCGCTTCAGAGAAACAACACGGGCATTTGAGACGTTCTATAATGGGCATTCCAATAAACTTGCGTACTAAGCTGATTTCTTTACCCCAAGTAGAAAAATCTTTTGGAAATCTTGTAATCGATGCTCCGGTAAAATTTGTACCCGAGGAGATCCCCAACATGGAGTTGCACAACTTTGTAAGATTGATCAGGGATACGGTGACTAAAACTATTACTGCTTGTGACAAAAATTCACCAGACGATGTAGTTTCTGCACTGGCAAATATATATAATGAGAGTTTCCTTGCGCAAGAATGGGGAGGAAATGATGAAGTTGACATGTTTACAAGTTCAAGTTTGTGTAGGTTTCCTATACAAGAAGCTGATTTTGGTTGGGGAAAACCATGTTTAATGCATTTTGGATCAAGACATAATCAGTATTGTTGGTTGTATGATGCAGAATGTGGCAATGGGATTTGTGTGCAGGTGGATTTGAAGGAAAATAACATTCACTTATTTGAATGTGACGATGATATCAAGGCTTTCTTTAAATTTTAG',\n",
       " 'protein': 'MIFQKETMEVEILSTKLIKPSSPTPNYLQNYKLSFFDQIADEAHLPLVLFYPPGNSNTKNNIAAEEQLEQSLSRILTHVYPIAGRFTEDNSSIHCLDQGVKFVKAKVNCKLNDFLEKAHKDVNLALSCWPKDTWYVDETNLLIVPIVIVQVTKFNCGGMALSMSHAHTAMDGFTTFTFVHEWSKVCKLGIPTEKINFLSFNLAKIFPPRDASKILLPRIPQENRMDAKLVAKKLYINQDSISRLREELTKSTDSGALCFKPSRVEMIIALLWRALIRASEKQHGHLRRSIMGIPINLRTKLISLPQVEKSFGNLVIDAPVKFVPEEIPNMELHNFVRLIRDTVTKTITACDKNSPDDVVSALANIYNESFLAQEWGGNDEVDMFTSSSLCRFPIQEADFGWGKPCLMHFGSRHNQYCWLYDAECGNGICVQVDLKENNIHLFECDDDIKAFFKF_',\n",
       " 'organism': 'Nicotiana tabacum',\n",
       " 'GeneID': 107826141.0,\n",
       " 'description': 'XM_016653091.1:97-1461 LOC107826141 ',\n",
       " 'tokenized': 'M_ATG I_ATT F_TTC Q_CAA K_AAA E_GAA T_ACC M_ATG E_GAG V_GTT E_GAA I_ATC L_TTG S_TCA T_ACA K_AAG L_TTG I_ATA K_AAA P_CCA S_TCT S_TCA P_CCA T_ACT P_CCA N_AAT Y_TAC L_CTT Q_CAA N_AAT Y_TAC K_AAA L_CTA S_TCT F_TTC F_TTT D_GAT Q_CAA I_ATA A_GCT D_GAT E_GAG A_GCA H_CAT L_TTA P_CCT L_CTT V_GTT L_CTT F_TTC Y_TAT P_CCT P_CCT G_GGC N_AAT S_AGC N_AAT T_ACC K_AAG N_AAT N_AAT I_ATT A_GCA A_GCT E_GAA E_GAA Q_CAG L_CTC E_GAG Q_CAA S_TCC L_TTA S_TCT R_AGA I_ATT L_TTA T_ACC H_CAT V_GTT Y_TAC P_CCA I_ATT A_GCT G_GGC R_AGA F_TTT T_ACT E_GAG D_GAT N_AAC S_TCC S_TCG I_ATT H_CAC C_TGC L_CTC D_GAT Q_CAA G_GGG V_GTT K_AAA F_TTT V_GTC K_AAA A_GCC K_AAG V_GTA N_AAT C_TGT K_AAG L_CTC N_AAT D_GAC F_TTT L_CTT E_GAG K_AAA A_GCA H_CAC K_AAA D_GAT V_GTC N_AAT L_CTT A_GCC L_TTA S_TCT C_TGT W_TGG P_CCT K_AAA D_GAT T_ACT W_TGG Y_TAT V_GTG D_GAT E_GAA T_ACT N_AAT L_TTA L_CTC I_ATT V_GTG P_CCA I_ATT V_GTC I_ATT V_GTA Q_CAA V_GTC T_ACA K_AAA F_TTC N_AAT C_TGC G_GGT G_GGC M_ATG A_GCT L_CTA S_TCT M_ATG S_AGC H_CAT A_GCA H_CAT T_ACC A_GCG M_ATG D_GAT G_GGT F_TTC T_ACA T_ACT F_TTT T_ACA F_TTC V_GTT H_CAC E_GAG W_TGG S_TCA K_AAA V_GTG C_TGC K_AAA L_TTG G_GGG I_ATT P_CCT T_ACA E_GAG K_AAA I_ATC N_AAC F_TTT L_TTG S_AGC F_TTT N_AAT L_TTG A_GCT K_AAG I_ATT F_TTC P_CCA P_CCA R_AGA D_GAT A_GCA S_TCG K_AAA I_ATT L_CTC L_TTG P_CCT R_CGT I_ATC P_CCC Q_CAG E_GAA N_AAT R_CGT M_ATG D_GAT A_GCT K_AAA L_CTA V_GTT A_GCC K_AAG K_AAG L_TTA Y_TAC I_ATC N_AAC Q_CAA D_GAT S_TCT I_ATT S_TCA R_AGA L_CTC R_AGA E_GAA E_GAA L_TTA T_ACA K_AAA S_TCA T_ACG D_GAT S_TCT G_GGA A_GCT L_TTA C_TGC F_TTT K_AAG P_CCC S_TCA R_AGA V_GTT E_GAA M_ATG I_ATT I_ATA A_GCG L_CTC L_TTA W_TGG R_AGG A_GCT L_TTA I_ATC R_CGC A_GCT S_TCA E_GAG K_AAA Q_CAA H_CAC G_GGG H_CAT L_TTG R_AGA R_CGT S_TCT I_ATA M_ATG G_GGC I_ATT P_CCA I_ATA N_AAC L_TTG R_CGT T_ACT K_AAG L_CTG I_ATT S_TCT L_TTA P_CCC Q_CAA V_GTA E_GAA K_AAA S_TCT F_TTT G_GGA N_AAT L_CTT V_GTA I_ATC D_GAT A_GCT P_CCG V_GTA K_AAA F_TTT V_GTA P_CCC E_GAG E_GAG I_ATC P_CCC N_AAC M_ATG E_GAG L_TTG H_CAC N_AAC F_TTT V_GTA R_AGA L_TTG I_ATC R_AGG D_GAT T_ACG V_GTG T_ACT K_AAA T_ACT I_ATT T_ACT A_GCT C_TGT D_GAC K_AAA N_AAT S_TCA P_CCA D_GAC D_GAT V_GTA V_GTT S_TCT A_GCA L_CTG A_GCA N_AAT I_ATA Y_TAT N_AAT E_GAG S_AGT F_TTC L_CTT A_GCG Q_CAA E_GAA W_TGG G_GGA G_GGA N_AAT D_GAT E_GAA V_GTT D_GAC M_ATG F_TTT T_ACA S_AGT S_TCA S_AGT L_TTG C_TGT R_AGG F_TTT P_CCT I_ATA Q_CAA E_GAA A_GCT D_GAT F_TTT G_GGT W_TGG G_GGA K_AAA P_CCA C_TGT L_TTA M_ATG H_CAT F_TTT G_GGA S_TCA R_AGA H_CAT N_AAT Q_CAG Y_TAT C_TGT W_TGG L_TTG Y_TAT D_GAT A_GCA E_GAA C_TGT G_GGC N_AAT G_GGG I_ATT C_TGT V_GTG Q_CAG V_GTG D_GAT L_TTG K_AAG E_GAA N_AAT N_AAC I_ATT H_CAC L_TTA F_TTT E_GAA C_TGT D_GAC D_GAT D_GAT I_ATC K_AAG A_GCT F_TTC F_TTT K_AAA F_TTT __TAG',\n",
       " 'fine_tuned': False,\n",
       " 'len': 455}"
      ]
     },
     "execution_count": 15,
     "metadata": {},
     "output_type": "execute_result"
    }
   ],
   "source": [
    "train_dataset[0]"
   ]
  },
  {
   "cell_type": "markdown",
   "metadata": {
    "id": "NU-pmE0Agirv"
   },
   "source": [
    "# Extend tokenizer with custom tokens\n",
    "- We use the **lhallee/CodonBERT** model form huggingface as our base model.\n",
    "- We extend it's tokenizer by adding new codons, amino acid tokens and the organism name tokens.\n",
    "- We tokenize the train, test, val dataset.\n",
    "- We split a part of the training data and validation data to use it for hyperparamter tuning with Optuna."
   ]
  },
  {
   "cell_type": "code",
   "execution_count": null,
   "metadata": {
    "colab": {
     "base_uri": "https://localhost:8080/"
    },
    "id": "QGU2f46lY9jK",
    "outputId": "fca22d0c-c2ff-42c5-ba57-c47d8c709677"
   },
   "outputs": [
    {
     "data": {
      "text/plain": [
       "['_Q',\n",
       " '_I',\n",
       " '_L',\n",
       " '_F',\n",
       " '_N',\n",
       " '__',\n",
       " '_G',\n",
       " '_T',\n",
       " '_H',\n",
       " '_P',\n",
       " '_M',\n",
       " '_D',\n",
       " '_E',\n",
       " '_A',\n",
       " '_C',\n",
       " '_W',\n",
       " '_Y',\n",
       " '_S',\n",
       " '_K',\n",
       " '_R',\n",
       " '_V']"
      ]
     },
     "execution_count": 13,
     "metadata": {},
     "output_type": "execute_result"
    }
   ],
   "source": [
    "amino_acids = ['Q', 'I', 'L', 'F', 'N', '_', 'G', 'T', 'H', 'P', 'M', 'D', 'E', 'A', 'C', 'W', 'Y', 'S', 'K', 'R', 'V']\n",
    "amino_acids_special = [\"_\" + aa for aa in amino_acids]\n",
    "amino_acids_special"
   ]
  },
  {
   "cell_type": "code",
   "execution_count": null,
   "metadata": {
    "colab": {
     "base_uri": "https://localhost:8080/"
    },
    "id": "x7b38c872YZv",
    "outputId": "2cec5aca-addf-4d4c-cb08-27ed25c0b3f9"
   },
   "outputs": [
    {
     "data": {
      "text/plain": [
       "['[HOMO SAPIENS]',\n",
       " '[NICOTIANA TABACUM]',\n",
       " '[MUS MUSCULUS]',\n",
       " '[DANIO RERIO]',\n",
       " '[ARABIDOPSIS THALIANA]']"
      ]
     },
     "execution_count": 14,
     "metadata": {},
     "output_type": "execute_result"
    }
   ],
   "source": [
    "organism_tokens = [f\"[{organism.upper()}]\" for organism in top_5_organisms]\n",
    "organism_tokens"
   ]
  },
  {
   "cell_type": "code",
   "execution_count": null,
   "metadata": {
    "colab": {
     "base_uri": "https://localhost:8080/",
     "height": 177,
     "referenced_widgets": [
      "e3af6769d02d4e24b43013204b117fa8",
      "c0feb6812d0141b9a14658b5af002f04",
      "edd07a426b024c2f9f37b71c643ace5f",
      "570a555f2fdb49d6b982cc2960f898a0",
      "fda51780bf354b0e86b2f95e748e94ec",
      "e960a637b0ae41ac9abe95ed8262f021",
      "30537477527b4ecb99c985d6af431d1c",
      "100ace8fd47a4e6e80a3ab7446ef2426",
      "b37c81d85f444484aa5e4899eb73e63c",
      "3f238a86ecf54f99ab638a540800d1cc",
      "b295ad35205141fd966a89780b7ff23b",
      "0d0c27e4e3b34a3d863a5a526290224a",
      "9e2eae49b58d4be5b9d9ac2370eef222",
      "0756e9b83dc44f90b5b74e057be52813",
      "f54d9a03fccd4fa89857132a3e222a58",
      "888c74ad00284d47aa72e556e188d19f",
      "a13e4ccfe6794295b17b429dcc2c808f",
      "c4f23ad771a849d4b7edabc0ca93f614",
      "def8d189c82a42fba0afdf2130570059",
      "766429ee31e74f2e89238f1fe2eb62ab",
      "f7c39f163b144a9eb6359add750a846f",
      "50c8e7e4f69d4cab91661f34f7d88932",
      "3c9b2a9b1838497f858437cda42524e2",
      "7da0bc0f18344b0c902d170c0cb8deba",
      "543d8d2f27af4ca499f6c2d584e36269",
      "8f888b8d93e6458899273426dfe1ce6a",
      "1b24f8501421497bac5e6ed8f87b3245",
      "69ad1d21056b448dbcb6da3f0b6da573",
      "6016f70090474174a5e11fbc3834843f",
      "3f58106d76a64d4ab3212522c5c1e8c0",
      "1e68621c23084a24aff1cfcb325fd528",
      "c16e92bafa6d407496a515f7a0e46efa",
      "2438f2aa07054624b45ebf4026952b02",
      "b45b0375faa548679cbc3a9b5665d40b",
      "719e580c0239430085c996cb0618ce0f",
      "c5108b53a2954d7f8951477efa5c3846",
      "2aa7add05a5d487f8b3b4355952a45d3",
      "64859696133b4818b282c020503c89ae",
      "588932a5bd5e44c0b4f446a254e5c19c",
      "072544a331b44fccb5c381622fb94af2",
      "a2834dcf7dfe4888a6bab2bdf585f39c",
      "574f5bf01a854b7885860b7e44cba72f",
      "69525293c51d47e084ed3471b2d34dab",
      "8d3a88a1f17c400bb511c576781c2bef",
      "ac120d46c96a45f8830c25622002c267",
      "fcaed9232a9548028777c285971176be",
      "6ec583ba59a149f39fcb14a3fe60ee4c",
      "fd87d96f59054d10942e33937c5a189d",
      "ac008f29867c4ab0b5e2b81011cc3425",
      "5d62ab92c25642d5a133fdb454d42949",
      "bdfe11eaaae048279fab6c4fb51173e5",
      "d156ec29c4854710b8ca30ac651b752f",
      "6f3c7796ce9d4ea8af18e5b7e3d085f2",
      "a58c9653968547e5a16df672df274908",
      "81c5d383d2ff4cbb8d8fa5b6b90205de"
     ]
    },
    "id": "1GFL0E06z-s3",
    "outputId": "f7821b20-c74c-4a5e-9ef1-9567863420fb"
   },
   "outputs": [
    {
     "data": {
      "application/vnd.jupyter.widget-view+json": {
       "model_id": "e3af6769d02d4e24b43013204b117fa8",
       "version_major": 2,
       "version_minor": 0
      },
      "text/plain": [
       "tokenizer_config.json:   0%|          | 0.00/1.36k [00:00<?, ?B/s]"
      ]
     },
     "metadata": {},
     "output_type": "display_data"
    },
    {
     "data": {
      "application/vnd.jupyter.widget-view+json": {
       "model_id": "0d0c27e4e3b34a3d863a5a526290224a",
       "version_major": 2,
       "version_minor": 0
      },
      "text/plain": [
       "vocab.txt:   0%|          | 0.00/356 [00:00<?, ?B/s]"
      ]
     },
     "metadata": {},
     "output_type": "display_data"
    },
    {
     "data": {
      "application/vnd.jupyter.widget-view+json": {
       "model_id": "3c9b2a9b1838497f858437cda42524e2",
       "version_major": 2,
       "version_minor": 0
      },
      "text/plain": [
       "special_tokens_map.json:   0%|          | 0.00/132 [00:00<?, ?B/s]"
      ]
     },
     "metadata": {},
     "output_type": "display_data"
    },
    {
     "data": {
      "application/vnd.jupyter.widget-view+json": {
       "model_id": "b45b0375faa548679cbc3a9b5665d40b",
       "version_major": 2,
       "version_minor": 0
      },
      "text/plain": [
       "config.json:   0%|          | 0.00/647 [00:00<?, ?B/s]"
      ]
     },
     "metadata": {},
     "output_type": "display_data"
    },
    {
     "data": {
      "application/vnd.jupyter.widget-view+json": {
       "model_id": "ac120d46c96a45f8830c25622002c267",
       "version_major": 2,
       "version_minor": 0
      },
      "text/plain": [
       "model.safetensors:   0%|          | 0.00/348M [00:00<?, ?B/s]"
      ]
     },
     "metadata": {},
     "output_type": "display_data"
    }
   ],
   "source": [
    "from transformers import AutoTokenizer, AutoModelForMaskedLM\n",
    "\n",
    "tokenizer = AutoTokenizer.from_pretrained(\"lhallee/CodonBERT\", do_basic_tokenize=False)\n",
    "model = AutoModelForMaskedLM.from_pretrained(\"lhallee/CodonBERT\")"
   ]
  },
  {
   "cell_type": "code",
   "execution_count": null,
   "metadata": {
    "colab": {
     "base_uri": "https://localhost:8080/"
    },
    "id": "8Hlw6DosowIz",
    "outputId": "6cd3c2ed-ef1b-48a1-f2aa-0a4506c195aa"
   },
   "outputs": [
    {
     "name": "stdout",
     "output_type": "stream",
     "text": [
      "64\n"
     ]
    }
   ],
   "source": [
    "dnas = train_dataset[\"dna\"]\n",
    "unique_codons = set()\n",
    "\n",
    "for dna in dnas:\n",
    "      codons = [dna[i:i+3] for i in range(0, len(dna), 3)]\n",
    "      unique_codons.update(codons)\n",
    "\n",
    "print(f\"Unique codons in dataset: {len(unique_codons)}\")"
   ]
  },
  {
   "cell_type": "code",
   "execution_count": null,
   "metadata": {
    "colab": {
     "base_uri": "https://localhost:8080/"
    },
    "id": "lvGXgia1pQ3a",
    "outputId": "ab8f8d8b-2aa1-45c3-ed96-ca79abeefd76"
   },
   "outputs": [
    {
     "name": "stdout",
     "output_type": "stream",
     "text": [
      "37\n"
     ]
    }
   ],
   "source": [
    "new_codons = list(unique_codons - set(tokenizer.get_vocab().keys()))\n",
    "print(f\"Codons to be added: {len(new_codons)}\")"
   ]
  },
  {
   "cell_type": "code",
   "execution_count": null,
   "metadata": {
    "colab": {
     "base_uri": "https://localhost:8080/"
    },
    "id": "tZPxpYpgz_TW",
    "outputId": "80c98409-c356-4251-8ac8-ae7f1ad7690b"
   },
   "outputs": [
    {
     "name": "stderr",
     "output_type": "stream",
     "text": [
      "The new embeddings will be initialized from a multivariate normal distribution that has old embeddings' mean and covariance. As described in this article: https://nlp.stanford.edu/~johnhew/vocab-expansion.html. To disable this, use `mean_resizing=False`\n"
     ]
    },
    {
     "name": "stdout",
     "output_type": "stream",
     "text": [
      "Created 63 tokens.\n",
      "Added 63 new tokens.\n"
     ]
    },
    {
     "data": {
      "text/plain": [
       "Embedding(132, 768, padding_idx=0)"
      ]
     },
     "execution_count": 18,
     "metadata": {},
     "output_type": "execute_result"
    }
   ],
   "source": [
    "vocab = amino_acids_special + organism_tokens + new\n",
    "print(f\"Created {len(vocab)} new tokens.\")\n",
    "num_added_tokens = tokenizer.add_tokens(vocab)\n",
    "print(f'Added {num_added_tokens} new tokens.')\n",
    "model.resize_token_embeddings(len(tokenizer))"
   ]
  },
  {
   "cell_type": "code",
   "execution_count": null,
   "metadata": {
    "colab": {
     "base_uri": "https://localhost:8080/"
    },
    "id": "RviDqavHcl_N",
    "outputId": "7a18200c-8b56-42e2-98d2-0f253c4cbdc9"
   },
   "outputs": [
    {
     "data": {
      "text/plain": [
       "['AAA',\n",
       " 'AAC',\n",
       " 'AAG',\n",
       " 'AAT',\n",
       " 'AAU',\n",
       " 'ACA',\n",
       " 'ACC',\n",
       " 'ACG',\n",
       " 'ACT',\n",
       " 'ACU',\n",
       " 'AGA',\n",
       " 'AGC',\n",
       " 'AGG',\n",
       " 'AGT',\n",
       " 'AGU',\n",
       " 'ATA',\n",
       " 'ATC',\n",
       " 'ATG',\n",
       " 'ATT',\n",
       " 'AUA',\n",
       " 'AUC',\n",
       " 'AUG',\n",
       " 'AUU',\n",
       " 'CAA',\n",
       " 'CAC',\n",
       " 'CAG',\n",
       " 'CAT',\n",
       " 'CAU',\n",
       " 'CCA',\n",
       " 'CCC',\n",
       " 'CCG',\n",
       " 'CCT',\n",
       " 'CCU',\n",
       " 'CGA',\n",
       " 'CGC',\n",
       " 'CGG',\n",
       " 'CGT',\n",
       " 'CGU',\n",
       " 'CTA',\n",
       " 'CTC',\n",
       " 'CTG',\n",
       " 'CTT',\n",
       " 'CUA',\n",
       " 'CUC',\n",
       " 'CUG',\n",
       " 'CUU',\n",
       " 'GAA',\n",
       " 'GAC',\n",
       " 'GAG',\n",
       " 'GAT',\n",
       " 'GAU',\n",
       " 'GCA',\n",
       " 'GCC',\n",
       " 'GCG',\n",
       " 'GCT',\n",
       " 'GCU',\n",
       " 'GGA',\n",
       " 'GGC',\n",
       " 'GGG',\n",
       " 'GGT',\n",
       " 'GGU',\n",
       " 'GTA',\n",
       " 'GTC',\n",
       " 'GTG',\n",
       " 'GTT',\n",
       " 'GUA',\n",
       " 'GUC',\n",
       " 'GUG',\n",
       " 'GUU',\n",
       " 'TAA',\n",
       " 'TAC',\n",
       " 'TAG',\n",
       " 'TAT',\n",
       " 'TCA',\n",
       " 'TCC',\n",
       " 'TCG',\n",
       " 'TCT',\n",
       " 'TGA',\n",
       " 'TGC',\n",
       " 'TGG',\n",
       " 'TGT',\n",
       " 'TTA',\n",
       " 'TTC',\n",
       " 'TTG',\n",
       " 'TTT',\n",
       " 'UAA',\n",
       " 'UAC',\n",
       " 'UAG',\n",
       " 'UAU',\n",
       " 'UCA',\n",
       " 'UCC',\n",
       " 'UCG',\n",
       " 'UCU',\n",
       " 'UGA',\n",
       " 'UGC',\n",
       " 'UGG',\n",
       " 'UGU',\n",
       " 'UUA',\n",
       " 'UUC',\n",
       " 'UUG',\n",
       " 'UUU',\n",
       " '[ARABIDOPSIS THALIANA]',\n",
       " '[CLS]',\n",
       " '[DANIO RERIO]',\n",
       " '[HOMO SAPIENS]',\n",
       " '[MASK]',\n",
       " '[MUS MUSCULUS]',\n",
       " '[NICOTIANA TABACUM]',\n",
       " '[PAD]',\n",
       " '[SEP]',\n",
       " '[UNK]',\n",
       " '_A',\n",
       " '_C',\n",
       " '_D',\n",
       " '_E',\n",
       " '_F',\n",
       " '_G',\n",
       " '_H',\n",
       " '_I',\n",
       " '_K',\n",
       " '_L',\n",
       " '_M',\n",
       " '_N',\n",
       " '_P',\n",
       " '_Q',\n",
       " '_R',\n",
       " '_S',\n",
       " '_T',\n",
       " '_V',\n",
       " '_W',\n",
       " '_Y',\n",
       " '__']"
      ]
     },
     "execution_count": 19,
     "metadata": {},
     "output_type": "execute_result"
    }
   ],
   "source": [
    "tokens = list(tokenizer.get_vocab().keys())\n",
    "tokens.sort()\n",
    "print(f\"Total tokens {len(tokens)}\")\n",
    "print(tokens)"
   ]
  },
  {
   "cell_type": "code",
   "execution_count": null,
   "metadata": {
    "colab": {
     "base_uri": "https://localhost:8080/"
    },
    "id": "zv4jIZWYh3hP",
    "outputId": "06349a09-b7f1-4b6e-8645-3e3b103496d1"
   },
   "outputs": [
    {
     "name": "stdout",
     "output_type": "stream",
     "text": [
      "132\n"
     ]
    },
    {
     "data": {
      "text/plain": [
       "['ATG', 'AAG', '_M', '_L', '_P', '__']"
      ]
     },
     "execution_count": 20,
     "metadata": {},
     "output_type": "execute_result"
    }
   ],
   "source": [
    "# Test a dummy sample\n",
    "print(len(tokenizer))\n",
    "tokenizer.tokenize(\"ATG AAG _M_L_P__\")"
   ]
  },
  {
   "cell_type": "code",
   "execution_count": null,
   "metadata": {
    "id": "NKeQ6x-o1BEi"
   },
   "outputs": [],
   "source": [
    "def tokenize_function(example):\n",
    "    dna_seq = example[\"dna\"]\n",
    "    protein_seq = example[\"protein\"]\n",
    "    organism = example[\"organism\"].upper()  # Assuming organism is provided clearly\n",
    "\n",
    "    # DNA sequence explicitly segmented into codons\n",
    "    codon_seq = \" \".join([dna_seq[i:i+3] for i in range(0, len(dna_seq), 3)])\n",
    "    formatted_protein = \"_\".join(list(protein_seq))\n",
    "\n",
    "    # Organism token clearly marked\n",
    "    organism_token = f\"[{organism}]\"\n",
    "\n",
    "    # Combined clearly as organism context + DNA codons + protein sequence\n",
    "    combined_seq = f\"{organism_token} {codon_seq} {tokenizer.sep_token} {formatted_protein}\"\n",
    "\n",
    "    return tokenizer(\n",
    "        combined_seq,\n",
    "        padding=\"max_length\",\n",
    "        truncation=True,\n",
    "        max_length=512,\n",
    "    )"
   ]
  },
  {
   "cell_type": "code",
   "execution_count": null,
   "metadata": {
    "colab": {
     "base_uri": "https://localhost:8080/"
    },
    "id": "iUXhPrujafuq",
    "outputId": "36e43f5b-3ce8-4a9c-8e79-225f8813f47d"
   },
   "outputs": [
    {
     "data": {
      "text/plain": [
       "{'dna': 'ATGTCAGCCTGCAGTAAGATCCGCCACATTGTGAGGCTCCGCCAAATGCTACAACGGTGGAGGAAGAAGGCCGCTTCGGCTGCTCGTCGCCGCGTCCCGACCGATGTACCTTCGGGACATGTAGCAGTTACAGTTGGTAGCAGTTGCAAGAGATTTGTAGTCCGTACCACTTACTTGAACCACCCAGTGTTCAAGAAACTGTTGTCACAGGCAGAGGAAGAGTTTGGTTTTGCTAACTCTGGCCTTTTAGCCATTCCTTGTGATGAATCTTTGTTTGAAGAGTTGCTTTGTTACTTGGCTCGATTCGACTCCGCTAACAATAATCTGTCACGGTTCATGAACTTTGAAGATTTCCAGAGATATTGTCACATGGATATCCGAAGCAACCTTGATTTTTGGGGTGATTCCAGACCCCTTTTGCATTAA',\n",
       " 'protein': 'MSACSKIRHIVRLRQMLQRWRKKAASAARRRVPTDVPSGHVAVTVGSSCKRFVVRTTYLNHPVFKKLLSQAEEEFGFANSGLLAIPCDESLFEELLCYLARFDSANNNLSRFMNFEDFQRYCHMDIRSNLDFWGDSRPLLH_',\n",
       " 'organism': 'Nicotiana tabacum',\n",
       " 'GeneID': 107824822.0,\n",
       " 'description': 'XM_016651628.1:19-444 LOC107824822 ',\n",
       " 'tokenized': 'M_ATG S_TCA A_GCC C_TGC S_AGT K_AAG I_ATC R_CGC H_CAC I_ATT V_GTG R_AGG L_CTC R_CGC Q_CAA M_ATG L_CTA Q_CAA R_CGG W_TGG R_AGG K_AAG K_AAG A_GCC A_GCT S_TCG A_GCT A_GCT R_CGT R_CGC R_CGC V_GTC P_CCG T_ACC D_GAT V_GTA P_CCT S_TCG G_GGA H_CAT V_GTA A_GCA V_GTT T_ACA V_GTT G_GGT S_AGC S_AGT C_TGC K_AAG R_AGA F_TTT V_GTA V_GTC R_CGT T_ACC T_ACT Y_TAC L_TTG N_AAC H_CAC P_CCA V_GTG F_TTC K_AAG K_AAA L_CTG L_TTG S_TCA Q_CAG A_GCA E_GAG E_GAA E_GAG F_TTT G_GGT F_TTT A_GCT N_AAC S_TCT G_GGC L_CTT L_TTA A_GCC I_ATT P_CCT C_TGT D_GAT E_GAA S_TCT L_TTG F_TTT E_GAA E_GAG L_TTG L_CTT C_TGT Y_TAC L_TTG A_GCT R_CGA F_TTC D_GAC S_TCC A_GCT N_AAC N_AAT N_AAT L_CTG S_TCA R_CGG F_TTC M_ATG N_AAC F_TTT E_GAA D_GAT F_TTC Q_CAG R_AGA Y_TAT C_TGT H_CAC M_ATG D_GAT I_ATC R_CGA S_AGC N_AAC L_CTT D_GAT F_TTT W_TGG G_GGT D_GAT S_TCC R_AGA P_CCC L_CTT L_TTG H_CAT __TAA',\n",
       " 'fine_tuned': False,\n",
       " 'len': 142}"
      ]
     },
     "execution_count": 22,
     "metadata": {},
     "output_type": "execute_result"
    }
   ],
   "source": [
    "train_dataset[0]"
   ]
  },
  {
   "cell_type": "code",
   "execution_count": null,
   "metadata": {
    "colab": {
     "base_uri": "https://localhost:8080/",
     "height": 143
    },
    "id": "itYxRP4vaATg",
    "outputId": "38d63c51-134c-44e5-f8a0-80ae1bdf6329"
   },
   "outputs": [
    {
     "data": {
      "application/vnd.google.colaboratory.intrinsic+json": {
       "type": "string"
      },
      "text/plain": [
       "'[CLS] [NICOTIANA TABACUM] ATG TCA GCC TGC AGT AAG ATC CGC CAC ATT GTG AGG CTC CGC CAA ATG CTA CAA CGG TGG AGG AAG AAG GCC GCT TCG GCT GCT CGT CGC CGC GTC CCG ACC GAT GTA CCT TCG GGA CAT GTA GCA GTT ACA GTT GGT AGC AGT TGC AAG AGA TTT GTA GTC CGT ACC ACT TAC TTG AAC CAC CCA GTG TTC AAG AAA CTG TTG TCA CAG GCA GAG GAA GAG TTT GGT TTT GCT AAC TCT GGC CTT TTA GCC ATT CCT TGT GAT GAA TCT TTG TTT GAA GAG TTG CTT TGT TAC TTG GCT CGA TTC GAC TCC GCT AAC AAT AAT CTG TCA CGG TTC ATG AAC TTT GAA GAT TTC CAG AGA TAT TGT CAC ATG GAT ATC CGA AGC AAC CTT GAT TTT TGG GGT GAT TCC AGA CCC CTT TTG CAT TAA [SEP] [UNK] _S _A _C _S _K _I _R _H _I _V _R _L _R _Q _M _L _Q _R _W _R _K _K _A _A _S _A _A _R _R _R _V _P _T _D _V _P _S _G _H _V _A _V _T _V _G _S _S _C _K _R _F _V _V _R _T _T _Y _L _N _H _P _V _F _K _K _L _L _S _Q _A _E _E _E _F _G _F _A _N _S _G _L _L _A _I _P _C _D _E _S _L _F _E _E _L _L _C _Y _L _A _R _F _D _S _A _N _N _N _L _S _R _F _M _N _F _E _D _F _Q _R _Y _C _H _M _D _I _R _S _N _L _D _F _W _G _D _S _R _P _L _L _H __ [SEP] [PAD] [PAD] [PAD] [PAD] [PAD] [PAD] [PAD] [PAD] [PAD] [PAD] [PAD] [PAD] [PAD] [PAD] [PAD] [PAD] [PAD] [PAD] [PAD] [PAD] [PAD] [PAD] [PAD] [PAD] [PAD] [PAD] [PAD] [PAD] [PAD] [PAD] [PAD] [PAD] [PAD] [PAD] [PAD] [PAD] [PAD] [PAD] [PAD] [PAD] [PAD] [PAD] [PAD] [PAD] [PAD] [PAD] [PAD] [PAD] [PAD] [PAD] [PAD] [PAD] [PAD] [PAD] [PAD] [PAD] [PAD] [PAD] [PAD] [PAD] [PAD] [PAD] [PAD] [PAD] [PAD] [PAD] [PAD] [PAD] [PAD] [PAD] [PAD] [PAD] [PAD] [PAD] [PAD] [PAD] [PAD] [PAD] [PAD] [PAD] [PAD] [PAD] [PAD] [PAD] [PAD] [PAD] [PAD] [PAD] [PAD] [PAD] [PAD] [PAD] [PAD] [PAD] [PAD] [PAD] [PAD] [PAD] [PAD] [PAD] [PAD] [PAD] [PAD] [PAD] [PAD] [PAD] [PAD] [PAD] [PAD] [PAD] [PAD] [PAD] [PAD] [PAD] [PAD] [PAD] [PAD] [PAD] [PAD] [PAD] [PAD] [PAD] [PAD] [PAD] [PAD] [PAD] [PAD] [PAD] [PAD] [PAD] [PAD] [PAD] [PAD] [PAD] [PAD] [PAD] [PAD] [PAD] [PAD] [PAD] [PAD] [PAD] [PAD] [PAD] [PAD] [PAD] [PAD] [PAD] [PAD] [PAD] [PAD] [PAD] [PAD] [PAD] [PAD] [PAD] [PAD] [PAD] [PAD] [PAD] [PAD] [PAD] [PAD] [PAD] [PAD] [PAD] [PAD] [PAD] [PAD] [PAD] [PAD] [PAD] [PAD] [PAD] [PAD] [PAD] [PAD] [PAD] [PAD] [PAD] [PAD] [PAD] [PAD] [PAD] [PAD] [PAD] [PAD] [PAD] [PAD] [PAD] [PAD] [PAD] [PAD] [PAD] [PAD] [PAD] [PAD] [PAD] [PAD] [PAD] [PAD] [PAD] [PAD] [PAD] [PAD] [PAD] [PAD] [PAD] [PAD] [PAD] [PAD] [PAD] [PAD] [PAD] [PAD] [PAD] [PAD] [PAD] [PAD] [PAD] [PAD] [PAD] [PAD] [PAD]'"
      ]
     },
     "execution_count": 23,
     "metadata": {},
     "output_type": "execute_result"
    }
   ],
   "source": [
    "ids = tokenize_function(train_dataset[0])['input_ids']\n",
    "tokenizer.decode(ids)"
   ]
  },
  {
   "cell_type": "code",
   "execution_count": null,
   "metadata": {
    "colab": {
     "base_uri": "https://localhost:8080/",
     "height": 113,
     "referenced_widgets": [
      "8bc651c1ecb94ea082adc8d9108f8c6b",
      "897ba22198aa4d7a8be9188aa0d22611",
      "4379664e070846d0a457a422c72524e3",
      "9a1c0056f2e843bf827e450deeb25e17",
      "b74fdba18a984411b48a52c85ce51b85",
      "daede96c386f419aa8b45477ee10a4b4",
      "b0be855b69ca420b9d80929cba6ce8ba",
      "9d1a32c1464440fcbae316c560a33e53",
      "f2f3416d190d42ff9d54d5e4b0b53f73",
      "5f61844f05c243a2ab892625d01340fc",
      "a5fb3cce56f44a2284cced2e80fb8a88",
      "974b211251264980b856c9e29496599e",
      "38979cbe82d64d2289dd79ba46c74601",
      "62b67a207fe54f70902d933fdf37bf7a",
      "e796b1751d734feba8633228e70f8427",
      "7ffb35fb77914d03845d7b8500341ea1",
      "a9c2259b42aa4700b804999575daa28a",
      "33cfdc069a51458ca414ab0ae9fb5dfb",
      "f8cf8075d849466682ce5f691f8d2ba6",
      "588e3e527a7a40c09025dbd2ad8871e1",
      "dc12260fdcea46acb2f3de839d6e8110",
      "5c764eb3e489489db4f90a11a7abacf9",
      "58e33d1c45bb4bedbbe339f741c0b86a",
      "b5277fafdc144d24857ec160df219329",
      "891a40b55dbe40b69a2c0f068b02b4a8",
      "5c95465fe9874bac926c8b77749841c3",
      "8bf572c8f15e4ae6a483f3e8f4431624",
      "f8a6dfab903e4379ae40fa35903c5c6a",
      "4b5fb488fe33457ea031203eb607fa68",
      "8362aa2dd20d43bb8b349409ab997481",
      "fba6151cd14742f2b9b234b1f54440e2",
      "7357bf81e34f43c4afadeb0eac2b6b0e",
      "a82dace086e242da9f81cd221fe9dfbe"
     ]
    },
    "id": "HamNtcv612Gt",
    "outputId": "1cb2d437-6d25-4cb1-c8f9-ef574b6315c0"
   },
   "outputs": [
    {
     "data": {
      "application/vnd.jupyter.widget-view+json": {
       "model_id": "8bc651c1ecb94ea082adc8d9108f8c6b",
       "version_major": 2,
       "version_minor": 0
      },
      "text/plain": [
       "Map:   0%|          | 0/80000 [00:00<?, ? examples/s]"
      ]
     },
     "metadata": {},
     "output_type": "display_data"
    },
    {
     "data": {
      "application/vnd.jupyter.widget-view+json": {
       "model_id": "974b211251264980b856c9e29496599e",
       "version_major": 2,
       "version_minor": 0
      },
      "text/plain": [
       "Map:   0%|          | 0/20000 [00:00<?, ? examples/s]"
      ]
     },
     "metadata": {},
     "output_type": "display_data"
    },
    {
     "data": {
      "application/vnd.jupyter.widget-view+json": {
       "model_id": "58e33d1c45bb4bedbbe339f741c0b86a",
       "version_major": 2,
       "version_minor": 0
      },
      "text/plain": [
       "Map:   0%|          | 0/22645 [00:00<?, ? examples/s]"
      ]
     },
     "metadata": {},
     "output_type": "display_data"
    }
   ],
   "source": [
    "tokenized_train_dataset = train_dataset.map(tokenize_function, batched=False)\n",
    "tokenized_val_dataset = val_dataset.map(tokenize_function, batched=False)\n",
    "tokenized_test_dataset = test_dataset.map(tokenize_function, batched=False)"
   ]
  },
  {
   "cell_type": "code",
   "execution_count": null,
   "metadata": {
    "id": "ADmKs1nt1_jm"
   },
   "outputs": [],
   "source": [
    "import pandas as pd\n",
    "from datasets import Dataset\n",
    "from sklearn.model_selection import train_test_split\n",
    "\n",
    "df = tokenized_train_dataset.to_pandas()\n",
    "\n",
    "train_df, val_df = train_test_split(\n",
    "    df,\n",
    "    train_size=2000,\n",
    "    test_size=500,\n",
    "    stratify=df[\"organism\"],\n",
    "    random_state=42\n",
    ")\n",
    "\n",
    "# Creating smaller dataset for hyperparameter tuning\n",
    "tuning_train_dataset = Dataset.from_pandas(train_df.reset_index(drop=True))\n",
    "tuning_val_dataset = Dataset.from_pandas(val_df.reset_index(drop=True))"
   ]
  },
  {
   "cell_type": "code",
   "execution_count": null,
   "metadata": {
    "id": "Bvmdstdn5T91"
   },
   "outputs": [],
   "source": [
    "columns_to_remove = ['dna',\n",
    " 'protein',\n",
    " 'organism',\n",
    " 'GeneID',\n",
    " 'description',\n",
    " 'tokenized',\n",
    " 'fine_tuned',\n",
    " 'len'\n",
    " ]\n",
    "tokenized_train_dataset = tokenized_train_dataset.remove_columns(columns_to_remove)\n",
    "tokenized_val_dataset = tokenized_val_dataset.remove_columns(columns_to_remove)\n",
    "tokenized_test_dataset = tokenized_test_dataset.remove_columns(columns_to_remove)"
   ]
  },
  {
   "cell_type": "code",
   "execution_count": null,
   "metadata": {
    "id": "6B4TtEz16Ba9"
   },
   "outputs": [],
   "source": [
    "tuning_train_dataset = tuning_train_dataset.remove_columns(columns_to_remove)\n",
    "tuning_val_dataset = tuning_val_dataset.remove_columns(columns_to_remove)"
   ]
  },
  {
   "cell_type": "markdown",
   "metadata": {
    "id": "Ff7nai7Lh3pk"
   },
   "source": [
    "# Training the Model\n",
    "- We initialize the DataCollator, Trainer for training the model.\n",
    "- We perform hyperparameter tuning by using Optuna.\n",
    "- We plot the training and validation loss curve."
   ]
  },
  {
   "cell_type": "code",
   "execution_count": null,
   "metadata": {
    "id": "Tyvwjp-Z1XVZ"
   },
   "outputs": [],
   "source": [
    "from transformers import DataCollatorForLanguageModeling\n",
    "\n",
    "data_collator = DataCollatorForLanguageModeling(\n",
    "    tokenizer=tokenizer,\n",
    "    mlm=True,\n",
    "    mlm_probability=0.15\n",
    ")"
   ]
  },
  {
   "cell_type": "code",
   "execution_count": null,
   "metadata": {
    "colab": {
     "base_uri": "https://localhost:8080/"
    },
    "id": "qTkQDOGBI5Ft",
    "outputId": "20614a6b-0912-45eb-b84d-12cd89d5a5ec"
   },
   "outputs": [
    {
     "data": {
      "text/plain": [
       "86537604"
      ]
     },
     "execution_count": 33,
     "metadata": {},
     "output_type": "execute_result"
    }
   ],
   "source": [
    "trainable_params = sum(p.numel() for p in model.parameters() if p.requires_grad)\n",
    "trainable_params"
   ]
  },
  {
   "cell_type": "code",
   "execution_count": null,
   "metadata": {
    "colab": {
     "base_uri": "https://localhost:8080/"
    },
    "id": "YcywSXBR6x1i",
    "outputId": "bcba4be8-6290-46c4-a025-5d6d9930f664"
   },
   "outputs": [
    {
     "data": {
      "text/plain": [
       "(Dataset({\n",
       "     features: ['input_ids', 'token_type_ids', 'attention_mask'],\n",
       "     num_rows: 2000\n",
       " }),\n",
       " Dataset({\n",
       "     features: ['input_ids', 'token_type_ids', 'attention_mask'],\n",
       "     num_rows: 500\n",
       " }))"
      ]
     },
     "execution_count": 34,
     "metadata": {},
     "output_type": "execute_result"
    }
   ],
   "source": [
    "tuning_train_dataset, tuning_val_dataset"
   ]
  },
  {
   "cell_type": "code",
   "execution_count": null,
   "metadata": {
    "colab": {
     "base_uri": "https://localhost:8080/",
     "height": 1000
    },
    "id": "-cJVO8CHzy3r",
    "outputId": "11ad5759-a8e8-4257-de26-70b1ad70f9ba"
   },
   "outputs": [
    {
     "name": "stderr",
     "output_type": "stream",
     "text": [
      "<ipython-input-36-e3f891ade40f>:30: FutureWarning: `tokenizer` is deprecated and will be removed in version 5.0.0 for `Trainer.__init__`. Use `processing_class` instead.\n",
      "  trainer = Trainer(\n",
      "[I 2025-06-04 21:39:27,720] A new study created in memory with name: no-name-56c8821b-9b33-4e6d-a587-7a9a7d653c3b\n"
     ]
    },
    {
     "data": {
      "text/html": [
       "\n",
       "    <div>\n",
       "      \n",
       "      <progress value='252' max='252' style='width:300px; height:20px; vertical-align: middle;'></progress>\n",
       "      [252/252 00:41, Epoch 4/4]\n",
       "    </div>\n",
       "    <table border=\"1\" class=\"dataframe\">\n",
       "  <thead>\n",
       " <tr style=\"text-align: left;\">\n",
       "      <th>Epoch</th>\n",
       "      <th>Training Loss</th>\n",
       "      <th>Validation Loss</th>\n",
       "    </tr>\n",
       "  </thead>\n",
       "  <tbody>\n",
       "    <tr>\n",
       "      <td>1</td>\n",
       "      <td>4.421500</td>\n",
       "      <td>4.258007</td>\n",
       "    </tr>\n",
       "    <tr>\n",
       "      <td>2</td>\n",
       "      <td>4.140100</td>\n",
       "      <td>3.981755</td>\n",
       "    </tr>\n",
       "    <tr>\n",
       "      <td>3</td>\n",
       "      <td>3.970800</td>\n",
       "      <td>3.892230</td>\n",
       "    </tr>\n",
       "    <tr>\n",
       "      <td>4</td>\n",
       "      <td>3.910200</td>\n",
       "      <td>3.863761</td>\n",
       "    </tr>\n",
       "  </tbody>\n",
       "</table><p>"
      ],
      "text/plain": [
       "<IPython.core.display.HTML object>"
      ]
     },
     "metadata": {},
     "output_type": "display_data"
    },
    {
     "name": "stderr",
     "output_type": "stream",
     "text": [
      "There were missing keys in the checkpoint model loaded: ['cls.predictions.decoder.weight', 'cls.predictions.decoder.bias'].\n",
      "[I 2025-06-04 21:40:10,797] Trial 0 finished with value: 3.8637609481811523 and parameters: {'learning_rate': 1.8143352471582475e-05, 'per_device_train_batch_size': 32, 'weight_decay': 0.2016386455291935}. Best is trial 0 with value: 3.8637609481811523.\n"
     ]
    },
    {
     "data": {
      "text/html": [
       "\n",
       "    <div>\n",
       "      \n",
       "      <progress value='252' max='252' style='width:300px; height:20px; vertical-align: middle;'></progress>\n",
       "      [252/252 00:41, Epoch 4/4]\n",
       "    </div>\n",
       "    <table border=\"1\" class=\"dataframe\">\n",
       "  <thead>\n",
       " <tr style=\"text-align: left;\">\n",
       "      <th>Epoch</th>\n",
       "      <th>Training Loss</th>\n",
       "      <th>Validation Loss</th>\n",
       "    </tr>\n",
       "  </thead>\n",
       "  <tbody>\n",
       "    <tr>\n",
       "      <td>1</td>\n",
       "      <td>3.980000</td>\n",
       "      <td>3.686169</td>\n",
       "    </tr>\n",
       "    <tr>\n",
       "      <td>2</td>\n",
       "      <td>3.652100</td>\n",
       "      <td>3.618887</td>\n",
       "    </tr>\n",
       "    <tr>\n",
       "      <td>3</td>\n",
       "      <td>3.610400</td>\n",
       "      <td>3.590124</td>\n",
       "    </tr>\n",
       "    <tr>\n",
       "      <td>4</td>\n",
       "      <td>3.587000</td>\n",
       "      <td>3.580375</td>\n",
       "    </tr>\n",
       "  </tbody>\n",
       "</table><p>"
      ],
      "text/plain": [
       "<IPython.core.display.HTML object>"
      ]
     },
     "metadata": {},
     "output_type": "display_data"
    },
    {
     "name": "stderr",
     "output_type": "stream",
     "text": [
      "There were missing keys in the checkpoint model loaded: ['cls.predictions.decoder.weight', 'cls.predictions.decoder.bias'].\n",
      "[I 2025-06-04 21:40:53,814] Trial 1 finished with value: 3.5803754329681396 and parameters: {'learning_rate': 0.000241009430165244, 'per_device_train_batch_size': 32, 'weight_decay': 0.19277921136507462}. Best is trial 1 with value: 3.5803754329681396.\n"
     ]
    },
    {
     "data": {
      "text/html": [
       "\n",
       "    <div>\n",
       "      \n",
       "      <progress value='252' max='252' style='width:300px; height:20px; vertical-align: middle;'></progress>\n",
       "      [252/252 00:41, Epoch 4/4]\n",
       "    </div>\n",
       "    <table border=\"1\" class=\"dataframe\">\n",
       "  <thead>\n",
       " <tr style=\"text-align: left;\">\n",
       "      <th>Epoch</th>\n",
       "      <th>Training Loss</th>\n",
       "      <th>Validation Loss</th>\n",
       "    </tr>\n",
       "  </thead>\n",
       "  <tbody>\n",
       "    <tr>\n",
       "      <td>1</td>\n",
       "      <td>4.592900</td>\n",
       "      <td>4.508097</td>\n",
       "    </tr>\n",
       "    <tr>\n",
       "      <td>2</td>\n",
       "      <td>4.478400</td>\n",
       "      <td>4.457376</td>\n",
       "    </tr>\n",
       "    <tr>\n",
       "      <td>3</td>\n",
       "      <td>4.453400</td>\n",
       "      <td>4.453549</td>\n",
       "    </tr>\n",
       "    <tr>\n",
       "      <td>4</td>\n",
       "      <td>4.451400</td>\n",
       "      <td>4.452878</td>\n",
       "    </tr>\n",
       "  </tbody>\n",
       "</table><p>"
      ],
      "text/plain": [
       "<IPython.core.display.HTML object>"
      ]
     },
     "metadata": {},
     "output_type": "display_data"
    },
    {
     "name": "stderr",
     "output_type": "stream",
     "text": [
      "There were missing keys in the checkpoint model loaded: ['cls.predictions.decoder.weight', 'cls.predictions.decoder.bias'].\n",
      "[I 2025-06-04 21:41:37,053] Trial 2 finished with value: 4.452877998352051 and parameters: {'learning_rate': 2.109257780930251e-06, 'per_device_train_batch_size': 32, 'weight_decay': 0.26617499935553507}. Best is trial 1 with value: 3.5803754329681396.\n"
     ]
    },
    {
     "data": {
      "text/html": [
       "\n",
       "    <div>\n",
       "      \n",
       "      <progress value='500' max='500' style='width:300px; height:20px; vertical-align: middle;'></progress>\n",
       "      [500/500 00:45, Epoch 4/4]\n",
       "    </div>\n",
       "    <table border=\"1\" class=\"dataframe\">\n",
       "  <thead>\n",
       " <tr style=\"text-align: left;\">\n",
       "      <th>Epoch</th>\n",
       "      <th>Training Loss</th>\n",
       "      <th>Validation Loss</th>\n",
       "    </tr>\n",
       "  </thead>\n",
       "  <tbody>\n",
       "    <tr>\n",
       "      <td>1</td>\n",
       "      <td>4.775100</td>\n",
       "      <td>4.734236</td>\n",
       "    </tr>\n",
       "    <tr>\n",
       "      <td>2</td>\n",
       "      <td>4.677800</td>\n",
       "      <td>4.660231</td>\n",
       "    </tr>\n",
       "    <tr>\n",
       "      <td>3</td>\n",
       "      <td>4.647700</td>\n",
       "      <td>4.640748</td>\n",
       "    </tr>\n",
       "    <tr>\n",
       "      <td>4</td>\n",
       "      <td>4.628900</td>\n",
       "      <td>4.641373</td>\n",
       "    </tr>\n",
       "  </tbody>\n",
       "</table><p>"
      ],
      "text/plain": [
       "<IPython.core.display.HTML object>"
      ]
     },
     "metadata": {},
     "output_type": "display_data"
    },
    {
     "name": "stderr",
     "output_type": "stream",
     "text": [
      "There were missing keys in the checkpoint model loaded: ['cls.predictions.decoder.weight', 'cls.predictions.decoder.bias'].\n",
      "[I 2025-06-04 21:42:24,748] Trial 3 finished with value: 4.6413726806640625 and parameters: {'learning_rate': 1.435581566725158e-07, 'per_device_train_batch_size': 16, 'weight_decay': 0.25295549844158355}. Best is trial 1 with value: 3.5803754329681396.\n"
     ]
    },
    {
     "data": {
      "text/html": [
       "\n",
       "    <div>\n",
       "      \n",
       "      <progress value='500' max='500' style='width:300px; height:20px; vertical-align: middle;'></progress>\n",
       "      [500/500 00:47, Epoch 4/4]\n",
       "    </div>\n",
       "    <table border=\"1\" class=\"dataframe\">\n",
       "  <thead>\n",
       " <tr style=\"text-align: left;\">\n",
       "      <th>Epoch</th>\n",
       "      <th>Training Loss</th>\n",
       "      <th>Validation Loss</th>\n",
       "    </tr>\n",
       "  </thead>\n",
       "  <tbody>\n",
       "    <tr>\n",
       "      <td>1</td>\n",
       "      <td>4.427900</td>\n",
       "      <td>4.269625</td>\n",
       "    </tr>\n",
       "    <tr>\n",
       "      <td>2</td>\n",
       "      <td>4.163300</td>\n",
       "      <td>4.022317</td>\n",
       "    </tr>\n",
       "    <tr>\n",
       "      <td>3</td>\n",
       "      <td>4.011900</td>\n",
       "      <td>3.926920</td>\n",
       "    </tr>\n",
       "    <tr>\n",
       "      <td>4</td>\n",
       "      <td>3.944900</td>\n",
       "      <td>3.900210</td>\n",
       "    </tr>\n",
       "  </tbody>\n",
       "</table><p>"
      ],
      "text/plain": [
       "<IPython.core.display.HTML object>"
      ]
     },
     "metadata": {},
     "output_type": "display_data"
    },
    {
     "name": "stderr",
     "output_type": "stream",
     "text": [
      "There were missing keys in the checkpoint model loaded: ['cls.predictions.decoder.weight', 'cls.predictions.decoder.bias'].\n",
      "[I 2025-06-04 21:43:13,741] Trial 4 finished with value: 3.900209665298462 and parameters: {'learning_rate': 8.592024209770986e-06, 'per_device_train_batch_size': 16, 'weight_decay': 0.19967518415096328}. Best is trial 1 with value: 3.5803754329681396.\n"
     ]
    },
    {
     "data": {
      "text/html": [
       "\n",
       "    <div>\n",
       "      \n",
       "      <progress value='125' max='500' style='width:300px; height:20px; vertical-align: middle;'></progress>\n",
       "      [125/500 00:09 < 00:30, 12.45 it/s, Epoch 1/4]\n",
       "    </div>\n",
       "    <table border=\"1\" class=\"dataframe\">\n",
       "  <thead>\n",
       " <tr style=\"text-align: left;\">\n",
       "      <th>Epoch</th>\n",
       "      <th>Training Loss</th>\n",
       "      <th>Validation Loss</th>\n",
       "    </tr>\n",
       "  </thead>\n",
       "  <tbody>\n",
       "    <tr>\n",
       "      <td>1</td>\n",
       "      <td>4.667800</td>\n",
       "      <td>4.577251</td>\n",
       "    </tr>\n",
       "  </tbody>\n",
       "</table><p>"
      ],
      "text/plain": [
       "<IPython.core.display.HTML object>"
      ]
     },
     "metadata": {},
     "output_type": "display_data"
    },
    {
     "name": "stderr",
     "output_type": "stream",
     "text": [
      "[I 2025-06-04 21:43:24,628] Trial 5 pruned. \n"
     ]
    },
    {
     "data": {
      "text/html": [
       "\n",
       "    <div>\n",
       "      \n",
       "      <progress value='250' max='500' style='width:300px; height:20px; vertical-align: middle;'></progress>\n",
       "      [250/500 00:21 < 00:21, 11.67 it/s, Epoch 2/4]\n",
       "    </div>\n",
       "    <table border=\"1\" class=\"dataframe\">\n",
       "  <thead>\n",
       " <tr style=\"text-align: left;\">\n",
       "      <th>Epoch</th>\n",
       "      <th>Training Loss</th>\n",
       "      <th>Validation Loss</th>\n",
       "    </tr>\n",
       "  </thead>\n",
       "  <tbody>\n",
       "    <tr>\n",
       "      <td>1</td>\n",
       "      <td>4.560800</td>\n",
       "      <td>4.483629</td>\n",
       "    </tr>\n",
       "    <tr>\n",
       "      <td>2</td>\n",
       "      <td>4.452300</td>\n",
       "      <td>4.434104</td>\n",
       "    </tr>\n",
       "  </tbody>\n",
       "</table><p>"
      ],
      "text/plain": [
       "<IPython.core.display.HTML object>"
      ]
     },
     "metadata": {},
     "output_type": "display_data"
    },
    {
     "name": "stderr",
     "output_type": "stream",
     "text": [
      "[I 2025-06-04 21:43:46,942] Trial 6 pruned. \n"
     ]
    },
    {
     "name": "stdout",
     "output_type": "stream",
     "text": [
      "Best trial:\n",
      "BestRun(run_id='1', objective=3.5803754329681396, hyperparameters={'learning_rate': 0.000241009430165244, 'per_device_train_batch_size': 32, 'weight_decay': 0.19277921136507462}, run_summary=None)\n"
     ]
    }
   ],
   "source": [
    "from transformers import AutoModelForMaskedLM, Trainer, TrainingArguments\n",
    "\n",
    "def model_init():\n",
    "    model = AutoModelForMaskedLM.from_pretrained(\"lhallee/CodonBERT\")\n",
    "    model.resize_token_embeddings(len(tokenizer))\n",
    "    return model\n",
    "\n",
    "def hp_space(trial):\n",
    "    return {\n",
    "        \"learning_rate\": trial.suggest_float(\"learning_rate\", 1e-7, 5e-4, log=True),\n",
    "        \"per_device_train_batch_size\": trial.suggest_categorical(\"per_device_train_batch_size\", [16, 32, 64]),\n",
    "        \"weight_decay\": trial.suggest_float(\"weight_decay\", 0.0, 0.3),\n",
    "    }\n",
    "\n",
    "training_args = TrainingArguments(\n",
    "    output_dir=\"./codonbert-mlm\",\n",
    "    learning_rate=5e-5,\n",
    "    num_train_epochs=4,\n",
    "    per_device_train_batch_size=64,\n",
    "    save_strategy=\"epoch\",\n",
    "    eval_strategy=\"epoch\",\n",
    "    logging_strategy=\"epoch\",\n",
    "    bf16=True,\n",
    "    dataloader_num_workers=4,\n",
    "    report_to=\"none\",\n",
    "    load_best_model_at_end=True\n",
    ")\n",
    "\n",
    "trainer = Trainer(\n",
    "    model_init=model_init,\n",
    "    args=training_args,\n",
    "    train_dataset=tuning_train_dataset,\n",
    "    eval_dataset=tuning_val_dataset,\n",
    "    tokenizer=tokenizer,\n",
    "    data_collator=data_collator,\n",
    ")\n",
    "\n",
    "best_run = trainer.hyperparameter_search(\n",
    "    direction=\"minimize\",\n",
    "    hp_space=hp_space,\n",
    "    n_trials=7,\n",
    "    backend=\"optuna\"\n",
    ")\n",
    "\n",
    "print(\"Best trial:\")\n",
    "print(best_run)"
   ]
  },
  {
   "cell_type": "code",
   "execution_count": null,
   "metadata": {
    "colab": {
     "base_uri": "https://localhost:8080/"
    },
    "id": "lo1RQ0j159xZ",
    "outputId": "fd05adcd-3388-4418-a421-ee4ca28cb614"
   },
   "outputs": [
    {
     "data": {
      "text/plain": [
       "{'learning_rate': 0.000241009430165244,\n",
       " 'per_device_train_batch_size': 32,\n",
       " 'weight_decay': 0.19277921136507462}"
      ]
     },
     "execution_count": 37,
     "metadata": {},
     "output_type": "execute_result"
    }
   ],
   "source": [
    "best_run.hyperparameters"
   ]
  },
  {
   "cell_type": "code",
   "execution_count": null,
   "metadata": {
    "colab": {
     "base_uri": "https://localhost:8080/",
     "height": 882
    },
    "id": "U9M7EVCt7pxl",
    "outputId": "df4396e7-fae8-48ac-bb79-d1313790d124"
   },
   "outputs": [
    {
     "name": "stderr",
     "output_type": "stream",
     "text": [
      "<ipython-input-40-adfe304f2839>:21: FutureWarning: `tokenizer` is deprecated and will be removed in version 5.0.0 for `Trainer.__init__`. Use `processing_class` instead.\n",
      "  trainer = Trainer(\n"
     ]
    },
    {
     "data": {
      "text/html": [
       "\n",
       "    <div>\n",
       "      \n",
       "      <progress value='35122' max='62500' style='width:300px; height:20px; vertical-align: middle;'></progress>\n",
       "      [35122/62500 1:17:44 < 1:00:36, 7.53 it/s, Epoch 14.05/25]\n",
       "    </div>\n",
       "    <table border=\"1\" class=\"dataframe\">\n",
       "  <thead>\n",
       " <tr style=\"text-align: left;\">\n",
       "      <th>Epoch</th>\n",
       "      <th>Training Loss</th>\n",
       "      <th>Validation Loss</th>\n",
       "    </tr>\n",
       "  </thead>\n",
       "  <tbody>\n",
       "    <tr>\n",
       "      <td>1</td>\n",
       "      <td>3.638700</td>\n",
       "      <td>3.374675</td>\n",
       "    </tr>\n",
       "    <tr>\n",
       "      <td>2</td>\n",
       "      <td>3.086800</td>\n",
       "      <td>2.927051</td>\n",
       "    </tr>\n",
       "    <tr>\n",
       "      <td>3</td>\n",
       "      <td>2.820900</td>\n",
       "      <td>2.665457</td>\n",
       "    </tr>\n",
       "    <tr>\n",
       "      <td>4</td>\n",
       "      <td>2.505100</td>\n",
       "      <td>2.268883</td>\n",
       "    </tr>\n",
       "    <tr>\n",
       "      <td>5</td>\n",
       "      <td>2.304700</td>\n",
       "      <td>2.256989</td>\n",
       "    </tr>\n",
       "    <tr>\n",
       "      <td>6</td>\n",
       "      <td>2.282000</td>\n",
       "      <td>2.243113</td>\n",
       "    </tr>\n",
       "    <tr>\n",
       "      <td>7</td>\n",
       "      <td>2.265100</td>\n",
       "      <td>2.230099</td>\n",
       "    </tr>\n",
       "    <tr>\n",
       "      <td>8</td>\n",
       "      <td>2.248700</td>\n",
       "      <td>2.219820</td>\n",
       "    </tr>\n",
       "    <tr>\n",
       "      <td>9</td>\n",
       "      <td>2.232300</td>\n",
       "      <td>2.206508</td>\n",
       "    </tr>\n",
       "    <tr>\n",
       "      <td>10</td>\n",
       "      <td>2.216800</td>\n",
       "      <td>2.196362</td>\n",
       "    </tr>\n",
       "    <tr>\n",
       "      <td>11</td>\n",
       "      <td>2.202600</td>\n",
       "      <td>2.176118</td>\n",
       "    </tr>\n",
       "    <tr>\n",
       "      <td>12</td>\n",
       "      <td>2.184700</td>\n",
       "      <td>2.168207</td>\n",
       "    </tr>\n",
       "    <tr>\n",
       "      <td>13</td>\n",
       "      <td>2.168800</td>\n",
       "      <td>2.154597</td>\n",
       "    </tr>\n",
       "    <tr>\n",
       "      <td>14</td>\n",
       "      <td>2.153100</td>\n",
       "      <td>2.140304</td>\n",
       "    </tr>\n",
       "  </tbody>\n",
       "</table><p>"
      ],
      "text/plain": [
       "<IPython.core.display.HTML object>"
      ]
     },
     "metadata": {},
     "output_type": "display_data"
    },
    {
     "ename": "KeyboardInterrupt",
     "evalue": "",
     "output_type": "error",
     "traceback": [
      "\u001b[0;31m---------------------------------------------------------------------------\u001b[0m",
      "\u001b[0;31mKeyboardInterrupt\u001b[0m                         Traceback (most recent call last)",
      "\u001b[0;32m<ipython-input-40-adfe304f2839>\u001b[0m in \u001b[0;36m<cell line: 0>\u001b[0;34m()\u001b[0m\n\u001b[1;32m     28\u001b[0m )\n\u001b[1;32m     29\u001b[0m \u001b[0;34m\u001b[0m\u001b[0m\n\u001b[0;32m---> 30\u001b[0;31m \u001b[0mtrainer\u001b[0m\u001b[0;34m.\u001b[0m\u001b[0mtrain\u001b[0m\u001b[0;34m(\u001b[0m\u001b[0;34m)\u001b[0m\u001b[0;34m\u001b[0m\u001b[0;34m\u001b[0m\u001b[0m\n\u001b[0m",
      "\u001b[0;32m/usr/local/lib/python3.11/dist-packages/transformers/trainer.py\u001b[0m in \u001b[0;36mtrain\u001b[0;34m(self, resume_from_checkpoint, trial, ignore_keys_for_eval, **kwargs)\u001b[0m\n\u001b[1;32m   2238\u001b[0m                 \u001b[0mhf_hub_utils\u001b[0m\u001b[0;34m.\u001b[0m\u001b[0menable_progress_bars\u001b[0m\u001b[0;34m(\u001b[0m\u001b[0;34m)\u001b[0m\u001b[0;34m\u001b[0m\u001b[0;34m\u001b[0m\u001b[0m\n\u001b[1;32m   2239\u001b[0m         \u001b[0;32melse\u001b[0m\u001b[0;34m:\u001b[0m\u001b[0;34m\u001b[0m\u001b[0;34m\u001b[0m\u001b[0m\n\u001b[0;32m-> 2240\u001b[0;31m             return inner_training_loop(\n\u001b[0m\u001b[1;32m   2241\u001b[0m                 \u001b[0margs\u001b[0m\u001b[0;34m=\u001b[0m\u001b[0margs\u001b[0m\u001b[0;34m,\u001b[0m\u001b[0;34m\u001b[0m\u001b[0;34m\u001b[0m\u001b[0m\n\u001b[1;32m   2242\u001b[0m                 \u001b[0mresume_from_checkpoint\u001b[0m\u001b[0;34m=\u001b[0m\u001b[0mresume_from_checkpoint\u001b[0m\u001b[0;34m,\u001b[0m\u001b[0;34m\u001b[0m\u001b[0;34m\u001b[0m\u001b[0m\n",
      "\u001b[0;32m/usr/local/lib/python3.11/dist-packages/transformers/trainer.py\u001b[0m in \u001b[0;36m_inner_training_loop\u001b[0;34m(self, batch_size, args, resume_from_checkpoint, trial, ignore_keys_for_eval)\u001b[0m\n\u001b[1;32m   2558\u001b[0m                         \u001b[0margs\u001b[0m\u001b[0;34m.\u001b[0m\u001b[0mlogging_nan_inf_filter\u001b[0m\u001b[0;34m\u001b[0m\u001b[0;34m\u001b[0m\u001b[0m\n\u001b[1;32m   2559\u001b[0m                         \u001b[0;32mand\u001b[0m \u001b[0;32mnot\u001b[0m \u001b[0mis_torch_xla_available\u001b[0m\u001b[0;34m(\u001b[0m\u001b[0;34m)\u001b[0m\u001b[0;34m\u001b[0m\u001b[0;34m\u001b[0m\u001b[0m\n\u001b[0;32m-> 2560\u001b[0;31m                         \u001b[0;32mand\u001b[0m \u001b[0;34m(\u001b[0m\u001b[0mtorch\u001b[0m\u001b[0;34m.\u001b[0m\u001b[0misnan\u001b[0m\u001b[0;34m(\u001b[0m\u001b[0mtr_loss_step\u001b[0m\u001b[0;34m)\u001b[0m \u001b[0;32mor\u001b[0m \u001b[0mtorch\u001b[0m\u001b[0;34m.\u001b[0m\u001b[0misinf\u001b[0m\u001b[0;34m(\u001b[0m\u001b[0mtr_loss_step\u001b[0m\u001b[0;34m)\u001b[0m\u001b[0;34m)\u001b[0m\u001b[0;34m\u001b[0m\u001b[0;34m\u001b[0m\u001b[0m\n\u001b[0m\u001b[1;32m   2561\u001b[0m                     ):\n\u001b[1;32m   2562\u001b[0m                         \u001b[0;31m# if loss is nan or inf simply add the average of previous logged losses\u001b[0m\u001b[0;34m\u001b[0m\u001b[0;34m\u001b[0m\u001b[0m\n",
      "\u001b[0;31mKeyboardInterrupt\u001b[0m: "
     ]
    }
   ],
   "source": [
    "from transformers import AutoModelForMaskedLM, Trainer, TrainingArguments\n",
    "\n",
    "\n",
    "training_args = TrainingArguments(\n",
    "    output_dir=\"./codonbert-mlm\",\n",
    "    learning_rate=best_run.hyperparameters[\"learning_rate\"],\n",
    "    weight_decay=best_run.hyperparameters[\"weight_decay\"],\n",
    "    num_train_epochs=25,\n",
    "    per_device_train_batch_size=best_run.hyperparameters[\"per_device_train_batch_size\"],\n",
    "    warmup_ratio=0.1,\n",
    "    lr_scheduler_type=\"linear\",\n",
    "    save_strategy=\"epoch\",\n",
    "    eval_strategy=\"epoch\",\n",
    "    logging_strategy=\"epoch\",\n",
    "    bf16=True,\n",
    "    dataloader_num_workers=4,\n",
    "    report_to=\"none\",\n",
    "    load_best_model_at_end=True\n",
    ")\n",
    "\n",
    "trainer = Trainer(\n",
    "    model=model,\n",
    "    args=training_args,\n",
    "    train_dataset=tokenized_train_dataset,\n",
    "    eval_dataset=tokenized_val_dataset,\n",
    "    tokenizer=tokenizer,\n",
    "    data_collator=data_collator,\n",
    ")\n",
    "\n",
    "trainer.train()"
   ]
  },
  {
   "cell_type": "code",
   "execution_count": null,
   "metadata": {
    "colab": {
     "base_uri": "https://localhost:8080/",
     "height": 507
    },
    "id": "F_ybDI81NvWv",
    "outputId": "a684ba9f-bb91-40da-ee5d-929dfa84e969"
   },
   "outputs": [
    {
     "data": {
      "image/png": "[encoded data removed]",
      "text/plain": [
       "<Figure size 800x500 with 1 Axes>"
      ]
     },
     "metadata": {},
     "output_type": "display_data"
    }
   ],
   "source": [
    "import matplotlib.pyplot as plt\n",
    "\n",
    "# Extract loss values from log history\n",
    "logs = trainer.state.log_history\n",
    "train_loss = [log[\"loss\"] for log in logs if \"loss\" in log]\n",
    "val_loss = [log[\"eval_loss\"] for log in logs if \"eval_loss\" in log]\n",
    "\n",
    "train_epochs = list(range(1, len(train_loss) + 1))\n",
    "val_epochs = list(range(1, len(val_loss) + 1))\n",
    "\n",
    "# Plot\n",
    "plt.figure(figsize=(8, 5))\n",
    "plt.plot(train_epochs, train_loss, label=\"Training Loss\")\n",
    "plt.plot(val_epochs, val_loss, label=\"Validation Loss\")\n",
    "plt.xlabel(\"Epoch\")\n",
    "plt.ylabel(\"Loss\")\n",
    "plt.title(\"Training vs Validation Loss\")\n",
    "plt.legend()\n",
    "plt.grid(True)\n",
    "plt.tight_layout()\n",
    "plt.show()\n"
   ]
  },
  {
   "cell_type": "code",
   "execution_count": null,
   "metadata": {
    "colab": {
     "base_uri": "https://localhost:8080/"
    },
    "id": "oWQChleV1c76",
    "outputId": "41f7e07a-724f-4920-9425-8a34ce94bfb3"
   },
   "outputs": [
    {
     "data": {
      "text/plain": [
       "('./codonbert-mlm-finetuned/tokenizer_config.json',\n",
       " './codonbert-mlm-finetuned/special_tokens_map.json',\n",
       " './codonbert-mlm-finetuned/vocab.txt',\n",
       " './codonbert-mlm-finetuned/added_tokens.json',\n",
       " './codonbert-mlm-finetuned/tokenizer.json')"
      ]
     },
     "execution_count": 41,
     "metadata": {},
     "output_type": "execute_result"
    }
   ],
   "source": [
    "trainer.save_model(\"./codonbert-mlm-finetuned\")\n",
    "tokenizer.save_pretrained(\"./codonbert-mlm-finetuned\")"
   ]
  },
  {
   "cell_type": "code",
   "execution_count": null,
   "metadata": {
    "collapsed": true,
    "id": "WvQ99xKBJYTN"
   },
   "outputs": [],
   "source": [
    "  !zip -r codon-model-corrected-1.zip ./codonbert-mlm-finetuned\n",
    "  from google.colab import files\n",
    "  files.download('codon-model-corrected-1.zip')"
   ]
  },
  {
   "cell_type": "code",
   "execution_count": null,
   "metadata": {
    "id": "EPTHIUic5KiF"
   },
   "outputs": [],
   "source": [
    "  !rm -rf codonbert-mlm-finetuned\n",
    "  !unzip codon-model-corrected-1.zip -d ."
   ]
  },
  {
   "cell_type": "markdown",
   "metadata": {
    "id": "sz8HyxEVhfVM"
   },
   "source": [
    "# Calculate Perpelxity\n",
    "- We load the saved model and evaluate it's perplexity."
   ]
  },
  {
   "cell_type": "code",
   "execution_count": null,
   "metadata": {
    "colab": {
     "base_uri": "https://localhost:8080/",
     "height": 146
    },
    "id": "THohY5Kbykxi",
    "outputId": "913a7e4c-7722-4b8d-db04-b06c5fd38cf2"
   },
   "outputs": [
    {
     "name": "stderr",
     "output_type": "stream",
     "text": [
      "<ipython-input-52-6611a212f0ea>:11: FutureWarning: `tokenizer` is deprecated and will be removed in version 5.0.0 for `Trainer.__init__`. Use `processing_class` instead.\n",
      "  test_trainer = Trainer(\n"
     ]
    },
    {
     "data": {
      "text/html": [
       "\n",
       "    <div>\n",
       "      \n",
       "      <progress value='625' max='625' style='width:300px; height:20px; vertical-align: middle;'></progress>\n",
       "      [625/625 00:19]\n",
       "    </div>\n",
       "    "
      ],
      "text/plain": [
       "<IPython.core.display.HTML object>"
      ]
     },
     "metadata": {},
     "output_type": "display_data"
    },
    {
     "name": "stdout",
     "output_type": "stream",
     "text": [
      "Test set evaluation metrics:\n",
      "{'eval_loss': 2.141181707382202, 'eval_model_preparation_time': 0.0032, 'eval_runtime': 20.1847, 'eval_samples_per_second': 990.848, 'eval_steps_per_second': 30.964}\n",
      "Perplexity: 8.51\n"
     ]
    }
   ],
   "source": [
    "saved_model = AutoModelForMaskedLM.from_pretrained(\"./codonbert-mlm-finetuned\")\n",
    "saved_tokenizer = AutoTokenizer.from_pretrained(\"./codonbert-mlm-finetuned\")\n",
    "\n",
    "test_args = TrainingArguments(\n",
    "    output_dir=\"./codonbert-mlm-test\",\n",
    "    per_device_eval_batch_size=32,\n",
    "    dataloader_num_workers=4,\n",
    "    report_to=\"none\"\n",
    ")\n",
    "\n",
    "test_trainer = Trainer(\n",
    "    model=saved_model,\n",
    "    args=test_args,\n",
    "    eval_dataset=tokenized_val_dataset,\n",
    "    tokenizer=saved_tokenizer,\n",
    "    data_collator=data_collator,\n",
    ")\n",
    "\n",
    "metrics = test_trainer.evaluate()\n",
    "print(\"Test set evaluation metrics:\")\n",
    "print(metrics)\n",
    "\n",
    "import math\n",
    "perplexity = math.exp(metrics[\"eval_loss\"])\n",
    "print(f\"Perplexity: {perplexity:.2f}\")"
   ]
  }
 ],
 "metadata": {
  "accelerator": "GPU",
  "colab": {
   "collapsed_sections": [
    "7HM2zvpCjPIf",
    "NU-pmE0Agirv",
    "Ff7nai7Lh3pk",
    "sz8HyxEVhfVM"
   ],
   "gpuType": "T4",
   "machine_shape": "hm",
   "provenance": []
  },
  "kernelspec": {
   "display_name": "Python 3",
   "name": "python3"
  },
  "language_info": {
   "name": "python"
  }
 },
 "nbformat": 4,
 "nbformat_minor": 0
}
